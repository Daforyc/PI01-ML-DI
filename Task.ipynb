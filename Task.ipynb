{
 "cells": [
  {
   "cell_type": "code",
   "execution_count": 3,
   "metadata": {},
   "outputs": [],
   "source": [
    "import pandas as pd"
   ]
  },
  {
   "cell_type": "code",
   "execution_count": 4,
   "metadata": {},
   "outputs": [],
   "source": [
    "df=pd.read_csv(\"datasets/plataformas.csv\")"
   ]
  },
  {
   "cell_type": "code",
   "execution_count": 5,
   "metadata": {},
   "outputs": [
    {
     "data": {
      "text/html": [
       "<div>\n",
       "<style scoped>\n",
       "    .dataframe tbody tr th:only-of-type {\n",
       "        vertical-align: middle;\n",
       "    }\n",
       "\n",
       "    .dataframe tbody tr th {\n",
       "        vertical-align: top;\n",
       "    }\n",
       "\n",
       "    .dataframe thead th {\n",
       "        text-align: right;\n",
       "    }\n",
       "</style>\n",
       "<table border=\"1\" class=\"dataframe\">\n",
       "  <thead>\n",
       "    <tr style=\"text-align: right;\">\n",
       "      <th></th>\n",
       "      <th>id</th>\n",
       "      <th>type</th>\n",
       "      <th>title</th>\n",
       "      <th>director</th>\n",
       "      <th>cast</th>\n",
       "      <th>country</th>\n",
       "      <th>date_added</th>\n",
       "      <th>release_year</th>\n",
       "      <th>rating_x</th>\n",
       "      <th>duration</th>\n",
       "      <th>listed_in</th>\n",
       "      <th>description</th>\n",
       "      <th>duration_int</th>\n",
       "      <th>duration_type</th>\n",
       "      <th>rating_y</th>\n",
       "    </tr>\n",
       "  </thead>\n",
       "  <tbody>\n",
       "    <tr>\n",
       "      <th>0</th>\n",
       "      <td>as1</td>\n",
       "      <td>movie</td>\n",
       "      <td>the grand seduction</td>\n",
       "      <td>don mckellar</td>\n",
       "      <td>brendan gleeson, taylor kitsch, gordon pinsent</td>\n",
       "      <td>canada</td>\n",
       "      <td>2021-03-30</td>\n",
       "      <td>2014</td>\n",
       "      <td>g</td>\n",
       "      <td>113 min</td>\n",
       "      <td>comedy, drama</td>\n",
       "      <td>a small fishing village must procure a local d...</td>\n",
       "      <td>113.0</td>\n",
       "      <td>min</td>\n",
       "      <td>3.467131</td>\n",
       "    </tr>\n",
       "    <tr>\n",
       "      <th>1</th>\n",
       "      <td>as2</td>\n",
       "      <td>movie</td>\n",
       "      <td>take care good night</td>\n",
       "      <td>girish joshi</td>\n",
       "      <td>mahesh manjrekar, abhay mahajan, sachin khedekar</td>\n",
       "      <td>india</td>\n",
       "      <td>2021-03-30</td>\n",
       "      <td>2018</td>\n",
       "      <td>13+</td>\n",
       "      <td>110 min</td>\n",
       "      <td>drama, international</td>\n",
       "      <td>a metro family decides to fight a cyber crimin...</td>\n",
       "      <td>110.0</td>\n",
       "      <td>min</td>\n",
       "      <td>3.548682</td>\n",
       "    </tr>\n",
       "    <tr>\n",
       "      <th>2</th>\n",
       "      <td>as3</td>\n",
       "      <td>movie</td>\n",
       "      <td>secrets of deception</td>\n",
       "      <td>josh webber</td>\n",
       "      <td>tom sizemore, lorenzo lamas, robert lasardo, r...</td>\n",
       "      <td>united states</td>\n",
       "      <td>2021-03-30</td>\n",
       "      <td>2017</td>\n",
       "      <td>g</td>\n",
       "      <td>74 min</td>\n",
       "      <td>action, drama, suspense</td>\n",
       "      <td>after a man discovers his wife is cheating on ...</td>\n",
       "      <td>74.0</td>\n",
       "      <td>min</td>\n",
       "      <td>3.500000</td>\n",
       "    </tr>\n",
       "    <tr>\n",
       "      <th>3</th>\n",
       "      <td>as4</td>\n",
       "      <td>movie</td>\n",
       "      <td>pink: staying true</td>\n",
       "      <td>sonia anderson</td>\n",
       "      <td>interviews with: pink, adele, beyoncé, britney...</td>\n",
       "      <td>united states</td>\n",
       "      <td>2021-03-30</td>\n",
       "      <td>2014</td>\n",
       "      <td>g</td>\n",
       "      <td>69 min</td>\n",
       "      <td>documentary</td>\n",
       "      <td>pink breaks the mold once again, bringing her ...</td>\n",
       "      <td>69.0</td>\n",
       "      <td>min</td>\n",
       "      <td>3.538055</td>\n",
       "    </tr>\n",
       "    <tr>\n",
       "      <th>4</th>\n",
       "      <td>as5</td>\n",
       "      <td>movie</td>\n",
       "      <td>monster maker</td>\n",
       "      <td>giles foster</td>\n",
       "      <td>harry dean stanton, kieran o'brien, george cos...</td>\n",
       "      <td>united kingdom</td>\n",
       "      <td>2021-03-30</td>\n",
       "      <td>1989</td>\n",
       "      <td>g</td>\n",
       "      <td>45 min</td>\n",
       "      <td>drama, fantasy</td>\n",
       "      <td>teenage matt banting wants to work with a famo...</td>\n",
       "      <td>45.0</td>\n",
       "      <td>min</td>\n",
       "      <td>3.478992</td>\n",
       "    </tr>\n",
       "    <tr>\n",
       "      <th>...</th>\n",
       "      <td>...</td>\n",
       "      <td>...</td>\n",
       "      <td>...</td>\n",
       "      <td>...</td>\n",
       "      <td>...</td>\n",
       "      <td>...</td>\n",
       "      <td>...</td>\n",
       "      <td>...</td>\n",
       "      <td>...</td>\n",
       "      <td>...</td>\n",
       "      <td>...</td>\n",
       "      <td>...</td>\n",
       "      <td>...</td>\n",
       "      <td>...</td>\n",
       "      <td>...</td>\n",
       "    </tr>\n",
       "    <tr>\n",
       "      <th>22993</th>\n",
       "      <td>ns8803</td>\n",
       "      <td>movie</td>\n",
       "      <td>zodiac</td>\n",
       "      <td>david fincher</td>\n",
       "      <td>mark ruffalo, jake gyllenhaal, robert downey j...</td>\n",
       "      <td>united states</td>\n",
       "      <td>2019-11-20</td>\n",
       "      <td>2007</td>\n",
       "      <td>r</td>\n",
       "      <td>158 min</td>\n",
       "      <td>cult movies, dramas, thrillers</td>\n",
       "      <td>a political cartoonist, a crime reporter and a...</td>\n",
       "      <td>158.0</td>\n",
       "      <td>min</td>\n",
       "      <td>3.438998</td>\n",
       "    </tr>\n",
       "    <tr>\n",
       "      <th>22994</th>\n",
       "      <td>ns8804</td>\n",
       "      <td>tv show</td>\n",
       "      <td>zombie dumb</td>\n",
       "      <td>NaN</td>\n",
       "      <td>NaN</td>\n",
       "      <td>NaN</td>\n",
       "      <td>2019-07-01</td>\n",
       "      <td>2018</td>\n",
       "      <td>tv-y7</td>\n",
       "      <td>2 seasons</td>\n",
       "      <td>kids' tv, korean tv shows, tv comedies</td>\n",
       "      <td>while living alone in a spooky town, a young g...</td>\n",
       "      <td>2.0</td>\n",
       "      <td>season</td>\n",
       "      <td>3.515947</td>\n",
       "    </tr>\n",
       "    <tr>\n",
       "      <th>22995</th>\n",
       "      <td>ns8805</td>\n",
       "      <td>movie</td>\n",
       "      <td>zombieland</td>\n",
       "      <td>ruben fleischer</td>\n",
       "      <td>jesse eisenberg, woody harrelson, emma stone, ...</td>\n",
       "      <td>united states</td>\n",
       "      <td>2019-11-01</td>\n",
       "      <td>2009</td>\n",
       "      <td>r</td>\n",
       "      <td>88 min</td>\n",
       "      <td>comedies, horror movies</td>\n",
       "      <td>looking to survive in a world taken over by zo...</td>\n",
       "      <td>88.0</td>\n",
       "      <td>min</td>\n",
       "      <td>3.420945</td>\n",
       "    </tr>\n",
       "    <tr>\n",
       "      <th>22996</th>\n",
       "      <td>ns8806</td>\n",
       "      <td>movie</td>\n",
       "      <td>zoom</td>\n",
       "      <td>peter hewitt</td>\n",
       "      <td>tim allen, courteney cox, chevy chase, kate ma...</td>\n",
       "      <td>united states</td>\n",
       "      <td>2020-01-11</td>\n",
       "      <td>2006</td>\n",
       "      <td>pg</td>\n",
       "      <td>88 min</td>\n",
       "      <td>children &amp; family movies, comedies</td>\n",
       "      <td>dragged from civilian life, a former superhero...</td>\n",
       "      <td>88.0</td>\n",
       "      <td>min</td>\n",
       "      <td>3.588050</td>\n",
       "    </tr>\n",
       "    <tr>\n",
       "      <th>22997</th>\n",
       "      <td>ns8807</td>\n",
       "      <td>movie</td>\n",
       "      <td>zubaan</td>\n",
       "      <td>mozez singh</td>\n",
       "      <td>vicky kaushal, sarah-jane dias, raaghav chanan...</td>\n",
       "      <td>india</td>\n",
       "      <td>2019-03-02</td>\n",
       "      <td>2015</td>\n",
       "      <td>tv-14</td>\n",
       "      <td>111 min</td>\n",
       "      <td>dramas, international movies, music &amp; musicals</td>\n",
       "      <td>a scrappy but poor boy worms his way into a ty...</td>\n",
       "      <td>111.0</td>\n",
       "      <td>min</td>\n",
       "      <td>3.529228</td>\n",
       "    </tr>\n",
       "  </tbody>\n",
       "</table>\n",
       "<p>22998 rows × 15 columns</p>\n",
       "</div>"
      ],
      "text/plain": [
       "           id     type                 title         director  \\\n",
       "0         as1    movie   the grand seduction     don mckellar   \n",
       "1         as2    movie  take care good night     girish joshi   \n",
       "2         as3    movie  secrets of deception      josh webber   \n",
       "3         as4    movie    pink: staying true   sonia anderson   \n",
       "4         as5    movie         monster maker     giles foster   \n",
       "...       ...      ...                   ...              ...   \n",
       "22993  ns8803    movie                zodiac    david fincher   \n",
       "22994  ns8804  tv show           zombie dumb              NaN   \n",
       "22995  ns8805    movie            zombieland  ruben fleischer   \n",
       "22996  ns8806    movie                  zoom     peter hewitt   \n",
       "22997  ns8807    movie                zubaan      mozez singh   \n",
       "\n",
       "                                                    cast         country  \\\n",
       "0         brendan gleeson, taylor kitsch, gordon pinsent          canada   \n",
       "1       mahesh manjrekar, abhay mahajan, sachin khedekar           india   \n",
       "2      tom sizemore, lorenzo lamas, robert lasardo, r...   united states   \n",
       "3      interviews with: pink, adele, beyoncé, britney...   united states   \n",
       "4      harry dean stanton, kieran o'brien, george cos...  united kingdom   \n",
       "...                                                  ...             ...   \n",
       "22993  mark ruffalo, jake gyllenhaal, robert downey j...   united states   \n",
       "22994                                                NaN             NaN   \n",
       "22995  jesse eisenberg, woody harrelson, emma stone, ...   united states   \n",
       "22996  tim allen, courteney cox, chevy chase, kate ma...   united states   \n",
       "22997  vicky kaushal, sarah-jane dias, raaghav chanan...           india   \n",
       "\n",
       "       date_added  release_year rating_x   duration  \\\n",
       "0      2021-03-30          2014        g    113 min   \n",
       "1      2021-03-30          2018      13+    110 min   \n",
       "2      2021-03-30          2017        g     74 min   \n",
       "3      2021-03-30          2014        g     69 min   \n",
       "4      2021-03-30          1989        g     45 min   \n",
       "...           ...           ...      ...        ...   \n",
       "22993  2019-11-20          2007        r    158 min   \n",
       "22994  2019-07-01          2018    tv-y7  2 seasons   \n",
       "22995  2019-11-01          2009        r     88 min   \n",
       "22996  2020-01-11          2006       pg     88 min   \n",
       "22997  2019-03-02          2015    tv-14    111 min   \n",
       "\n",
       "                                            listed_in  \\\n",
       "0                                       comedy, drama   \n",
       "1                                drama, international   \n",
       "2                             action, drama, suspense   \n",
       "3                                         documentary   \n",
       "4                                      drama, fantasy   \n",
       "...                                               ...   \n",
       "22993                  cult movies, dramas, thrillers   \n",
       "22994          kids' tv, korean tv shows, tv comedies   \n",
       "22995                         comedies, horror movies   \n",
       "22996              children & family movies, comedies   \n",
       "22997  dramas, international movies, music & musicals   \n",
       "\n",
       "                                             description  duration_int  \\\n",
       "0      a small fishing village must procure a local d...         113.0   \n",
       "1      a metro family decides to fight a cyber crimin...         110.0   \n",
       "2      after a man discovers his wife is cheating on ...          74.0   \n",
       "3      pink breaks the mold once again, bringing her ...          69.0   \n",
       "4      teenage matt banting wants to work with a famo...          45.0   \n",
       "...                                                  ...           ...   \n",
       "22993  a political cartoonist, a crime reporter and a...         158.0   \n",
       "22994  while living alone in a spooky town, a young g...           2.0   \n",
       "22995  looking to survive in a world taken over by zo...          88.0   \n",
       "22996  dragged from civilian life, a former superhero...          88.0   \n",
       "22997  a scrappy but poor boy worms his way into a ty...         111.0   \n",
       "\n",
       "      duration_type  rating_y  \n",
       "0               min  3.467131  \n",
       "1               min  3.548682  \n",
       "2               min  3.500000  \n",
       "3               min  3.538055  \n",
       "4               min  3.478992  \n",
       "...             ...       ...  \n",
       "22993           min  3.438998  \n",
       "22994        season  3.515947  \n",
       "22995           min  3.420945  \n",
       "22996           min  3.588050  \n",
       "22997           min  3.529228  \n",
       "\n",
       "[22998 rows x 15 columns]"
      ]
     },
     "execution_count": 5,
     "metadata": {},
     "output_type": "execute_result"
    }
   ],
   "source": [
    "df"
   ]
  },
  {
   "cell_type": "code",
   "execution_count": 6,
   "metadata": {},
   "outputs": [],
   "source": [
    "def get_max_duration(year, platform, duration_type): #sacar la pelicula con mayor duracion en el año(year) y plataforma solicitados \n",
    "    if platform == \"amazon\":\n",
    "      df_temp = df[(df['release_year'] == year) & (df['id'].str.contains(\"a\")) & (df['type'] == \"movie\") & (df['duration_type'] == duration_type)]\n",
    "      df_temp['duration_minutes'] = df_temp['duration'].apply(lambda x: int(x.split(' ')[0]))\n",
    "      max_row = df_temp.loc[df_temp['duration_int'].idxmax()]\n",
    "      return max_row['title']\n",
    "    elif platform == \"disney\":\n",
    "      df_temp = df[(df['release_year'] == year) & (df['id'].str.contains(\"d\")) & (df['type'] == \"movie\")]\n",
    "      df_temp['duration_minutes'] = df_temp['duration'].apply(lambda x: int(x.split(' ')[0]))\n",
    "      max_row = df_temp.loc[df_temp['duration_int'].idxmax()]\n",
    "      return max_row['title']\n",
    "    elif platform == \"hulu\":\n",
    "      df_temp = df[(df['release_year'] == year) & (df['id'].str.contains(\"h\")) & (df['type'] == \"movie\")]\n",
    "      df_temp['duration_minutes'] = df_temp['duration'].apply(lambda x: int(x.split(' ')[0]))\n",
    "      max_row = df_temp.loc[df_temp['duration_int'].idxmax()]\n",
    "      return max_row['title']\n",
    "    elif platform == \"netflix\":\n",
    "      df_temp = df[(df['release_year'] == year) & (df['id'].str.contains(\"n\")) & (df['type'] == \"movie\")]\n",
    "      df_temp['duration_minutes'] = df_temp['duration'].apply(lambda x: int(x.split(' ')[0]))\n",
    "      max_row = df_temp.loc[df_temp['duration_int'].idxmax()]\n",
    "      return max_row['title']\n",
    "    else:\n",
    "      return \"invalid entrance\"\n",
    "\n",
    "    # Return the movie name\n",
    "    \n",
    "    "
   ]
  },
  {
   "cell_type": "code",
   "execution_count": 7,
   "metadata": {},
   "outputs": [],
   "source": [
    "def get_max_durationv2(year, platform, duration_type):\n",
    "    if year not in df['release_year'].unique():\n",
    "        return f\"No movies found for the year {year}.\"\n",
    "    if duration_type not in df['duration_type'].unique():\n",
    "        return f\"No movies found for the duration type {duration_type}.\"\n",
    "    platform_ids = {\"amazon\": \"a\", \"disney\": \"d\", \"hulu\": \"h\", \"netflix\": \"n\"}\n",
    "    if platform not in platform_ids:\n",
    "        return \"Invalid platform. Please choose from 'amazon', 'disney', 'hulu', or 'netflix'.\"\n",
    "    else:\n",
    "        id_plat = platform_ids[platform]\n",
    "        df_temp = df[(df['release_year'] == year) & (df['id'].str.contains(id_plat)) & (df['type'] == \"movie\") & (df['duration_type'] == duration_type)].copy()\n",
    "        df_temp.loc[:, 'duration_minutes'] = df_temp['duration'].apply(lambda x: int(x.split(' ')[0]) if type(x) == str else None)\n",
    "        max_row = df_temp.loc[df_temp['duration_minutes'].fillna(-99999).idxmax()]\n",
    "        return max_row['title']\n",
    "\n",
    "    \n",
    "    "
   ]
  },
  {
   "cell_type": "code",
   "execution_count": 8,
   "metadata": {},
   "outputs": [],
   "source": [
    "# Optimized get_max_duration(year, platform, duration_type)\n",
    "def get_max_duration(year, platform, duration_type):\n",
    "    platform_ids = {\"amazon\": \"a\", \"disney\": \"d\", \"hulu\": \"h\", \"netflix\": \"n\"}\n",
    "    if platform not in platform_ids:\n",
    "        return \"Invalid platform. Please choose from 'amazon', 'disney', 'hulu', or 'netflix'.\"\n",
    "    if year not in df['release_year'].unique():\n",
    "        return f\"No movies found for the year {year}.\"\n",
    "    if duration_type not in df['duration_type'].unique():\n",
    "        return f\"No movies found for the duration type {duration_type}.\"\n",
    "    id_plat = platform_ids[platform]\n",
    "    temp_df = df[(df['release_year'] == year) & (df['id'].str.contains(id_plat)) & (df['type'] == \"movie\") & (df['duration_type'] == duration_type)].copy()\n",
    "    if temp_df.empty:\n",
    "        return f\"No movies found for the year {year} and duration type {duration_type} on {platform}.\"\n",
    "    temp_df['duration_minutes'] = temp_df['duration_int'].fillna(-99999)\n",
    "    max_row = temp_df.loc[temp_df['duration_minutes'].idxmax()]\n",
    "    return max_row['title']"
   ]
  },
  {
   "cell_type": "code",
   "execution_count": 9,
   "metadata": {},
   "outputs": [
    {
     "data": {
      "text/plain": [
       "'unbreakable kimmy schmidt: kimmy vs. the reverend'"
      ]
     },
     "execution_count": 9,
     "metadata": {},
     "output_type": "execute_result"
    }
   ],
   "source": [
    "get_max_duration(2020,\"netflix\", \"min\")"
   ]
  },
  {
   "cell_type": "code",
   "execution_count": 10,
   "metadata": {},
   "outputs": [],
   "source": [
    "def get_score_count(platform, scored, year): #devolverme la cantidad de (solo) peliculas que tienen un score mayor a scored\n",
    "    df_temp = df[(df[\"rating_y\"] > scored ) & (df[\"release_year\"] == year)]  #Filtro de busqueda por Score y Año\n",
    "    platform_ids = {\"amazon\": \"a\", \"disney\": \"d\", \"hulu\": \"h\", \"netflix\": \"n\"}\n",
    "    id_plat = platform_ids[platform]\n",
    "    if platform not in platform_ids:\n",
    "        return \"Invalid platform. Please choose from 'amazon', 'disney', 'hulu', or 'netflix'.\"\n",
    "    else: \n",
    "        df1 = df_temp[(df_temp[\"type\"] == \"movie\") & (df_temp[\"id\"].str.findall(id_plat))]             \n",
    "    return print(\"En\", platform, \"hay\", df1.shape[0], \"Peliculas del año\", year, \"con puntaje mayor a\", scored) "
   ]
  },
  {
   "cell_type": "code",
   "execution_count": 23,
   "metadata": {},
   "outputs": [
    {
     "name": "stdout",
     "output_type": "stream",
     "text": [
      "En netflix hay 401 Peliculas del año 2020 con puntaje mayor a 3.5\n"
     ]
    }
   ],
   "source": [
    "get_score_count(\"netflix\", 3.5 , 2020)"
   ]
  },
  {
   "cell_type": "code",
   "execution_count": 12,
   "metadata": {},
   "outputs": [],
   "source": [
    "def get_count_platform(platform):  #devolver un iint con el numero total de peliculas de la plataforma amazon, netflix, hulu, disney\n",
    "    if platform == \"amazon\":\n",
    "        temp_df = df['id'].str.contains(\"d\")\n",
    "    elif platform == \"disney\":\n",
    "        temp_df = df['id'].str.contains(\"d\")\n",
    "    elif platform == \"hulu\":\n",
    "        temp_df = df['id'].str.contains(\"h\")\n",
    "    elif platform == \"netflix\":\n",
    "        temp_df = df['id'].str.contains(\"n\")\n",
    "    else:\n",
    "        print(\"invalid platform\")\n",
    "        return\n",
    "\n",
    "    count = temp_df.value_counts().get(True, 0)\n",
    "    print(f\"{count} peliculas tiene la plataforma {platform}\")\n",
    "    return count"
   ]
  },
  {
   "cell_type": "code",
   "execution_count": 33,
   "metadata": {},
   "outputs": [],
   "source": [
    "def get_count_platformopt(platform): \n",
    "    platform_ids = {\"amazon\": \"a\", \"disney\": \"d\", \"hulu\": \"h\", \"netflix\": \"n\"}\n",
    "    id_plat = platform_ids[platform]\n",
    "    if platform not in platform_ids:\n",
    "        return \"Invalid platform. Please choose from 'amazon', 'disney', 'hulu', or 'netflix'.\"\n",
    "    temp_df = df['id'].str.contains(id_plat) & (df.type == \"movie\")\n",
    "    count = temp_df.value_counts().get(True, 0)\n",
    "    print(f\"{count} peliculas tiene la plataforma {platform}\")\n",
    "    return count\n",
    "    "
   ]
  },
  {
   "cell_type": "code",
   "execution_count": 34,
   "metadata": {},
   "outputs": [
    {
     "name": "stdout",
     "output_type": "stream",
     "text": [
      "7814 peliculas tiene la plataforma amazon\n"
     ]
    },
    {
     "data": {
      "text/plain": [
       "7814"
      ]
     },
     "execution_count": 34,
     "metadata": {},
     "output_type": "execute_result"
    }
   ],
   "source": [
    "get_count_platformopt(\"amazon\")"
   ]
  },
  {
   "cell_type": "code",
   "execution_count": 15,
   "metadata": {},
   "outputs": [
    {
     "name": "stdout",
     "output_type": "stream",
     "text": [
      "1450 peliculas tiene la plataforma disney\n"
     ]
    },
    {
     "data": {
      "text/plain": [
       "1450"
      ]
     },
     "execution_count": 15,
     "metadata": {},
     "output_type": "execute_result"
    }
   ],
   "source": [
    "get_count_platform(\"disney\")"
   ]
  },
  {
   "cell_type": "code",
   "execution_count": 16,
   "metadata": {},
   "outputs": [
    {
     "data": {
      "text/plain": [
       "Index(['id', 'type', 'title', 'director', 'cast', 'country', 'date_added',\n",
       "       'release_year', 'rating_x', 'duration', 'listed_in', 'description',\n",
       "       'duration_int', 'duration_type', 'rating_y'],\n",
       "      dtype='object')"
      ]
     },
     "execution_count": 16,
     "metadata": {},
     "output_type": "execute_result"
    }
   ],
   "source": [
    "df.columns"
   ]
  },
  {
   "cell_type": "code",
   "execution_count": 17,
   "metadata": {},
   "outputs": [],
   "source": [
    "def get_actor1(platform, year):\n",
    "    # Filter DataFrame by platform and year\n",
    "    filtered_df = df[(df['country'] == platform) & (df['release_year'] == year)]\n",
    "\n",
    "    # Concatenate all the cast lists into a single string\n",
    "    cast_string = ','.join(filtered_df['cast'].dropna().astype(str))\n",
    "\n",
    "    # Split the string into a list of individual actors\n",
    "    actor_list = cast_string.split(',')\n",
    "\n",
    "    # Create a pandas Series of the actors and their counts\n",
    "    actor_counts = pd.Series(actor_list).value_counts()\n",
    "\n",
    "    # Return the most frequent actor\n",
    "    return actor_counts.index[0]"
   ]
  },
  {
   "cell_type": "code",
   "execution_count": 18,
   "metadata": {},
   "outputs": [],
   "source": [
    "def get_actor(platform, year):\n",
    "    filtered_df = df[(df['country'] == platform) & (df['release_year'] == year)]\n",
    "    cast_string = ','.join(filtered_df['cast'].dropna().astype(str))\n",
    "    actor_list = cast_string.split(',')\n",
    "    actor_counts = pd.Series(actor_list).value_counts()\n",
    "    return actor_counts.index[0].item()"
   ]
  },
  {
   "cell_type": "code",
   "execution_count": 40,
   "metadata": {},
   "outputs": [],
   "source": [
    "def get_actor3(platform, year):\n",
    "    platform_ids = {\"amazon\": \"a\", \"disney\": \"d\", \"hulu\": \"h\", \"netflix\": \"n\"}\n",
    "    id_plat = platform_ids[platform]\n",
    "    if platform not in platform_ids:\n",
    "        return \"Invalid platform. Please choose from 'amazon', 'disney', 'hulu', or 'netflix'.\"\n",
    "    temp_df = df[(df['id'].str.contains(id_plat)) & (df['release_year'] == year)]\n",
    "    cast_string = ','.join(temp_df['cast'].dropna().astype(str)) # Concatenate all the cast lists into a single string\n",
    "    actor_list = cast_string.split(',') # Split the string into a list of individual actors\n",
    "    #print (actor_list)\n",
    "    actors = pd.Series(actor_list)\n",
    "    actors_strip = actors.str.strip()\n",
    "    actor_counts = actors_strip.value_counts() # Create a pandas Series of the actors and their counts\n",
    "    #print (actor_counts)\n",
    "    actor_name = actor_counts.index[0].split(',')[0] # Split the first element of actor_counts.index by comma and return the first item\n",
    "    if actor_name == '':\n",
    "        print(f\"There are non actors related for the year\",year, \"in the platform\",platform)  \n",
    "    return actor_name"
   ]
  },
  {
   "cell_type": "code",
   "execution_count": 39,
   "metadata": {},
   "outputs": [
    {
     "name": "stdout",
     "output_type": "stream",
     "text": [
      "['rafinha alcantara', ' marc-andré ter stegen', ' sergi roberto', ' dr. ramón cugat', ' mazinho', ' xavi arruebo', ' celia ferreira da silva', ' ángel lapuebla', ' javier enríquez', ' thiago alcantara', ' valeria alcantara', 'zoë coombs marr', 'alex cazares', ' ben diskin', ' cristina vee', ' erika ishii', 'andrea riseborough', ' harold torres', ' claudia pineda', ' tcheky karyo', ' giuseppe de domenico', ' gabriel byrne', ' dane dehaan', ' adriano chiaramida', 'natasha heschélle', ' curtis morgan', ' hannah scott', ' dennis nimoh', ' christine nguyen', 'phoebe robinson', ' rachel brosnahan', ' tiffany haddish', ' patti harrison', ' natasha leggero', ' natasha rothwell', ' sarah silverman', ' ziwe', ' christina aguilera', ' sterling k brown', 'bear grylls', 'liam dale', 'charlie plummer', ' taylor russell', ' andy garcia', ' annasophia robb', ' beth grant', ' devin bostick', ' lobo sebastian', ' molly parker', ' walton goggins', 'heidi schreck', ' mike iveson', ' rosdely ciprian', ' thursday williams', 'jeffrey dean morgan', ' david strathairn', ' julian feder', ' julie ann emery', 'sumeet vyas', ' nidhi singh', ' kubbra sait', ' gopal datt', ' anuvab pal', ' rit bahadur bayalkoti', ' dipesh bhujal', ' akarsh khurana', ' shifu - cat', 'noah schnapp', ' thomas kretschmann', ' frederick schmidt', ' anjelica huston', ' jean reno', 'alex høgh', ' alexander ludwig', ' jasper pääkkönen', 'nani', ' sudheer babu', ' nivetha thomas', ' aditi rao hydari', 'nani', ' sudheer babu', ' nivetha thomas', ' aditi rao hydari', 'nani', ' sudheer babu', ' nivetha thomas', ' aditi rao hydari', 'john cusack', ' rainn wilson', ' sasha lane', 'brooke wilson', ' mark bracich', ' rinnan henderson', 'robbie amell', ' andy allo', ' allegra edwards', ' zainab johnson', ' kevin bigley', ' chloe coleman', 'candace owens', ' larry elder', ' chad jackson', ' brandon tatum', ' rev. jesse lee peterson', 'peter miller', 'sophie van winden', ' abbey hoes', ' mark frost', ' julian looman', 'ben lugo touitou', ' uche nwaefuna', ' chioma okafor', ' chamberlyne okoro', ' chime', ' chinenye aniemena', ' ike onyema', ' vincent okonkwo', 'krystal lanae hill', ' aqeel ash-shakoor', ' dominic ovando', ' neisha neshae', 'nick frost', ' malcolm mcdowell', ' samson kayo', ' susan wokoma', \" emma d'arcy\", ' simon pegg', 'kevin shelley', 'tommy little', 'tom walker', 'tom gleeson', 'cassandra morris', \" colleen o'shaugnessey\", ' corina boettger', ' eshan inamdar', ' stacy allen', ' tara sands', 'tj', 'bharath niwas', ' priya bhavanishankar', ' robo shankar', ' karunakaran', ' sanjana sarathy', ' alexander babu', 'bharath niwas', ' priya bhavanishankar', ' robo shankar', ' karunakaran', ' sanjana sarathy', ' alexander babu', 'gabriel bateman', ' josh duhamel', ' megan fox', ' kunal nayyar', ' julia jones', ' janet montgomery', ' bryan callen', ' todd stashwick', ' neo hooo', 'gabriel bateman', ' josh duhamel', ' megan fox', ' kunal nayyar', ' julia jones', ' janet montgomery', ' bryan callen', ' todd stashwick', ' neo hooo', 'kento yamazaki', ' mayu matsuoka', ' kanichiro', ' sairi ito', ' satoru iguchi', 'li qin', ' wang dalu', ' xiao zhan', ' xin zhilei', 'rachel griffiths', ' sophia ali', ' reign edwards', ' helena howard', ' mia healey', ' jenna clause', ' erana james', ' shannon berry', ' sarah pidgeon', 'robyn daye edwards', ' wade hopwo', ' dan lypchuk', 'sierra mccormick', ' jake horowitz', ' gail cronauer', ' bruce davis', ' cheyenne barton', ' gregory peyton', 'yu xiao tong', ' guan zhi bin', ' mao xiao hui', ' kai xuan', 'jaeden martell', ' sophie giannamore', ' john turturro', ' chloë sevigny', ' chris messina', ' eve hewson', 'paulo mathias jr.', ' rafael portugal', ' victor meyniel', ' luísa périssé', ' dj amorim', 'davy raphaely', ' sarah french', ' davi sheridan', ' susan moses', ' doug henderson', ' paul cottman', ' wayne shearer', ' tony barber', ' lisa budwig', ' leslie talley', 'yecheng zheng', ' yixuan hu', ' cancan huang', ' lin yang', 'nikolaj coster-waldau', ' annabelle wallis', ' hero fiennes tiffin', ' zahn mcclarnon', 'jamal (jay) sommerville aka the god i.e.', ' theron edmonds aka barber tee', ' juice bigfellow digi global', ' jamal woolard', ' sarah oliver', ' young dro', ' shawty shawty', 'the prince family', 'gu shangwei', ' vithaya pansringarm', ' byron bishop', ' sahajak boonthanakit', 'tycer', ' dan', 'lyle blackburn', ' amy davies', ' penny riggs', 'ron paul', ' tom woods', ' michael huemer', ' james c. scott', ' dave smith', ' thaddeus russell', ' david friedman', 'lloyd daniels', ' avery johnson', ' bobbito garcia', ' david robinson', ' jerry tarkanian', 'liz arnold', ' peter arnold', ' daniel bennison', ' jeff bloking', ' alec canarri', \"conseulo 'chatita' berrellez\", ' geneva camarena', ' jorge godoy', 'dr. mark fairchild', 'zoe kazan', ' andrea riseborough', ' tahar rahim', ' bill nighy', ' jay baruchel', ' caleb landry jones', 'rosamund pike', ' joel kinnamen', ' common', ' ana de armas', ' clive owen', 'richard hammond', ' jeremy clarkson', ' james may', 'david yuzuk', ' fred gleffe', ' rick lencioni', ' kris \"tanto\" paronto', 'rob thompson', ' megan deputy', ' brad tarnowsky', 'frank welker', 'sharvari', ' rohit choudhary', ' sunny kaushal', ' rajiv ranjan', ' paloma manoppa', ' tj bhanu', ' akhil iyer', ' vivek sah', ' maneesh verma', ' amala akkineni', ' shruti seth', ' r. badreenath', ' toshiji takeshima', ' karanvir malhotra', ' brijesh jha', ' nizhalgal ravi', ' m.k raina', ' sudhanva deshpande', ' sushma seth', 'kenny knox', ' mark dohner', ' bobbi hartley', ' mike pollock', ' tyler bunch', ' jay synder', ' jason yudoff', ' dave wills', 'april billingsley', ' kelsey scott', ' conal byrne', ' rhoda griffis', ' john curran', ' jill jane clements', ' bernard setaro clark', 'mhairi calvey', ' waleed elgadi', ' makenna guyler', ' kevin leslie', ' jo price', 'dick gregory', ' charles ogletree', ' mae louise miller', ' george wilson', 'sam claflin', ' timothy spall', ' david hayman', ' noel clarke', ' charlie murphy', ' naomi ackie', ' joe claflin', ' sam otto', ' cathal pendred', ' hugh bonneville', 'andy hayward', ' ken house', 'linda godfrey', ' lyle blackburn', 'karl urban', ' jack quaid', ' antony starr', ' erin moriarty', ' dominique mcelligott', ' jessie t. usher', ' laz alonso', ' chace crawford', ' tomer capon', ' karen fukuhara', ' nathan mitchell', ' aya cash', ' colby minifie', 'gracy bitin goswami', ' manju gupta', ' sandeep yadav', ' ratna pathak shah', ' naila grewal', ' maya sarao', ' ankur rathee', ' geetika vidya', ' taapsee pannu', ' sushil dahiya', ' rohan khurana', ' purenendu bhattacharya', ' kumud mishra', ' dr. anil rastogi', ' santanu ghatak', ' dia mirza', ' tanvi azmi', ' harshh a. singh', ' ram kapoor', ' pavail gulati', ' bhavesh babani', ' manav kaul', ' siddhant mahesh karnick', ' niddhi uttam', 'gracy bitin goswami', ' manju gupta', ' sandeep yadav', ' ratna pathak shah', ' naila grewal', ' maya sarao', ' ankur rathee', ' geetika vidya', ' taapsee pannu', ' sushil dahiya', ' rohan khurana', ' purenendu bhattacharya', ' kumud mishra', ' dr. anil rastogi', ' santanu ghatak', ' dia mirza', ' tanvi azmi', ' harshh a. singh', ' ram kapoor', ' pavail gulati', ' bhavesh babani', ' manav kaul', ' siddhant mahesh karnick', ' niddhi uttam', 'test1', 'rebecca hall', ' paul schneider', ' duncan joiner', ' daniel zolghadri', ' jonathan pryce', 'russell crowe', ' andrea radrizanni', ' marcelo bielsa', ' victor orta', ' angus kinnear', ' liam cooper', ' luke ayling', ' kalvin phillips', ' patrick bamford', ' nikolaj coster-waldau', ' ralph ineson', ' josh warrington', ' james mooney', 'robert morales', 'jayasurya', ' aditi rao hydari', ' dev mohan', ' siddique', ' mamukoya', ' harish kanaran', ' kalaranjini', 'jody thompson', ' teri wyble', ' mark ashworth', ' thomas elliott', ' hunter burke', 'steve treviño', ' renae treviño', 'abhishek bachchan', 'bill nighy', ' sam riley', ' jenny agutter', ' tim mcinnerny', ' alice lowe', ' alexei sayle', ' louis healy', ' andrew shim', ' ella-grace gregoire', ' john westley', ' alan williams', 'arsen shavlyuk', ' volodymyr rashuk', ' ivanna borodai', 'john boyega', ' letitia wright', ' shaun parkes', ' amarah-jae st aubyn', ' micheal ward', ' sheyi cole', ' kenyah sandy', 'daniel knudsen', ' vickie lynn smith', ' dean cain', ' christopher veldhuizen', ' mimi sagadin', ' rocco guirlanda', ' tim kaiser', 'cindy casey', ' steven r feldman', ' harry quinn schone', 'anushka shetty', ' madhavan', ' anjali', ' michael madsen', 'anushka shetty', ' madhavan', ' anjali', ' michael madsen', 'vidya balan', ' sanya malhotra', ' jisshu sengupta', '  amit sadh', 'test actor 1', ' test actor 2', 'michael jr.', ' chonda pierce', ' james denton', ' karen abercrombie', 'lovie simone', ' jharrel jerome', ' celeste o’connor', ' jesse williams', ' gina torres', ' ana mulvoy ten', ' evan roe', ' francesca noel', ' henry hunter-hall', ' nekhebet juch', ' bella ferragamo', ' kristen ivy haynes', ' greyson cage', ' ben breault', ' krish bhuva', ' cody sloan', ' ali fisher', ' rae bell', ' melissa mcmeekin', ' ken israel', 'ben isaacs', ' mallory corinne', ' allie rae treharne', ' jericho lopez', ' rebecca c. olson', ' ward wright', 'seth macari', ' justin hartley', ' erin cummings', ' olivier taillieu', ' cheryl rixon davis', ' christina romero', ' luke davis', ' taylor kinney', ' nicole brunner', ' danielle roberts', ' elexa williams', ' bradford h. benoit', ' westley thornton', ' jeffrey vanderbyl', ' maurice chasse', ' jason beaudoin', ' nina kruse', ' nick lakind', 'tiffany alvord', ' teala dunn', ' piper curda', ' christian delgrosso', ' audrey whitby', ' alysia reiner', 'russell peters', 'sergio di zio', ' claire rankin', ' jayson therrien', ' leslie benn', ' ty loupelle', 'rob delaney', 'jonathan russell', ' charity rose thielen', ' matt gervais', ' chris zasche', ' kenny hensley', ' tyler williams', 'mecca morphosis', ' omar farooq', ' dan blake', ' amber azadi', ' saira khan', ' denise sanchez', ' marcellus bassman shepard', ' amir tobing', 'william paul young', 'diamond dallas page', ' steve austin', ' chris jericho', ' jake \"the snake\" roberts', ' steve yu', ' robert mclearren', ' cody rhodes', ' kimberly ross', ' craig aaron', 'alicia keys', ' j.j. watt', ' chelsea phaire', 'swara bhasker', ' ayushmaan saxena', ' rashmi agdekar', ' chittranjan tripathy', ' neelu kohli', ' pradhuman singh mall', 'swara bhasker', ' ayushmaan saxena', ' rashmi agdekar', ' chittranjan tripathy', ' neelu kohli', ' pradhuman singh mall', 'rosamund pike', ' sam riley', ' aneurin barnard', ' simon russell', ' katherine parkinson', ' sian brooke', ' anya taylor-joy', 'alexander \"lex\" king', ' darxia morris', ' cole lawson', ' miko rounds', ' darien janay', ' stray k', ' bj minor', ' jrue', ' sean', ' kiara \"the voice\"', ' fuzz rico', 'zhang luyi', ' duan yihong', ' li naiwen', ' zhu zhu', 'sumukhi suresh', ' naveen richard', ' manish anand', ' vidyuth gargi', ' shraddha', 'sumukhi suresh', ' naveen richard', ' manish anand', ' vidyuth gargi', ' shraddha', 'sumukhi suresh', ' naveen richard', ' manish anand', ' vidyuth gargi', ' shraddha', 'arata shindo:yuki kaji', ' kei mikhail ignatov:yuichi nakamura', 'dhritiman chatterjee', ' subhasish mukhopadhyay', ' eduardo munniz', 'aisha tyler', ' karl urban', ' laz alonso', 'mirthell mitchell', ' rita mitchell', ' shalom mitchell', ' sinead mitchell', ' sade mitchell', ' shiloh mitchell', 'katherine k nunez', ' carlos garcia', ' joey ortiz', ' david holley', 'al gore', ' bill mckibben', ' richard branson', ' robert f. kennedy jr.', ' michael bloomberg', ' van jones', ' vinod khosla', ' vandana shiva', ' ozzie zehner', ' steven running', ' nina jablonski', ' stephen churchill', ' sheldon solomon', 'pink floyd', 'keerthy suresh', ' linga', ' madhampatty rangaraj', ' master advaith', ' mathi', 'keerthy suresh', ' linga', ' madhampatty rangaraj', ' master advaith', ' mathi', 'tyler mane', ' scout compton', ' john schneider', ' daniel reobuck', ' booker huffman', ' dallas page', ' renae geerlings', ' william tokarsky', 'shingo katori', ' jiro sato', ' chihiro yamamoto', ' satomi nagano', ' emma miyazawa (ep2.4.5.7.8', ' mari natsuki (ep6-8', 'anthony lapaglia', ' sarah carter', ' barbara williams', 'dhanush', ' sneha', ' mehreen pirzada', ' naveen chandra', ' naser', ' munishkanth', ' sathish', 'pati jinich', 'priscilla quintana', ' raechelle banno', ' martin bobb-semple', 'jitendra kumar', ' neena gupta', ' raghubir yadav', ' faisal malik', ' chandan roy', 'jitendra kumar', ' neena gupta', ' raghubir yadav', ' faisal malik', ' chandan roy', 'benjamín vicuña', ' amparo noguera', ' francisca gavilán', ' roberto farías', ' eusebio arenas', ' victor montero', ' diego ruiz', ' mateo iribarren', 'benjamín vicuña', ' amparo noguera', ' francisca gavilán', ' roberto farías', ' eusebio arenas', ' victor montero', ' diego ruiz', ' mateo iribarren', 'jaideep ahlawat', ' neeraj kabi', ' gul panag', ' swastika mukherjee', ' ishwak singh', ' abhishek banerjee', ' jagjeet sandhu', ' asif khan', ' mairembam ronaldo singh', ' niharika lyra dutt', ' bodhisattva sharma', \"donna d' cruz\", 'jason frederick', ' jessica lynch', ' tim ross', 'brian brown', ' darryl colyer', ' loren coleman', 'chris parr', ' harris dirnberger', ' philip dirnberger', ' william jones', 'caroline muller', ' grace goulter', ' joseph wycoff', ' kelaan schoffel-armstrong', 'anushka shetty', ' madhavan', ' anjali', ' michael madsen', 'anushka shetty', ' madhavan', ' anjali', ' michael madsen', 'nicole blaine', ' mickey blaine', ' tegan blaine', ' finnley blaine', 'jeff belanger', 'rafael amaya', ' carolina guerra', ' octavio pizano', 'pete evans', ' manu feildel', ' colin fassnidge', ' septimus caton', 'charlie david', ' dan payne', ' thea gill', ' derek baynham', ' grace vukovic', ' calum worthy', ' amy matysio', 'praveen kumar', 'sabrina glow', 'tay epps', ' peachez huey', ' tevon mitchell', ' xerxes sabb', ' keaton payne', ' jay mays', ' christian edmonds', ' madison lewis', ' beverly love', ' joel diggs', ' sean richardson', ' jaren hampton', ' ashley smith', ' michael golembiewski', ' kim \"the groove\" thompson', ' shannon bond', ' joseph ebanks', ' fernando ochoa', 'luis javier ruiz', ' angel colon', ' senator dennis k. baxley', ' omar delgado', 'zoe ventoura', ' kayla radomski', ' cale ferrin', ' harley jane kozak', ' french stewart', ' brooke elliott', 'zhou jieqiong(pristin)', ' lee toby', ' pei zitian', 'ali fazal', ' shweta tripathi sharma', ' pankaj tripathi', '  divyenndu', '  rasika dugal', ' anil george', ' sheeba chadha', ' asif khan', ' alka amin', ' priyanshu painyuli', ' harshita shekhar gaur', ' shernavaz jijina', ' lilliput', ' paritosh sand', ' manu rishi', ' vijay varma', ' rajesh tailang', ' anangsha biswas', ' amit sial', ' neha sargam', ' anjum sharma', ' kulbhushan kharbanda', ' meghna malik', ' pramodh pathak', ' shahnawaz pradhan', ' shaji choudhary', ' shrikant verma', ' isha talwar', ' priyasha bhardwaj', 'sharonne lanier', ' dan davidson', ' josh murray', ' stephen fuller austin', ' nathan clarkson', ' keelia clarkson', ' noah artis', 'tang wei', ' zhu ya wen', ' deng jia jia', ' qiao zhen yu', 'anand deverakonda', ' varsha bollamma', ' chaitanya', ' divya drishti', 'melinda hill', 'max', ' cody dear', ' ryan siegel', ' allie stamler', ' benny brown', 'harald j. wester', ' nick mason', ' sir stirling moss', ' john surtees', ' giorgetto giugiaro', 'maria bamford', 'ramana', ' sanjeiv', ' praveen prem', ' varsha bollamma', ' aiswarya gowda', ' chetan gandharva', 'steven gerrard', ' michael owen', ' steve bruce', 'maggie binkley', 'arun vijay', ' prasanna', ' priya bhavani shankar', 'dougray scott', ' claire forlani', ' gordon ramsay', 'zheng yecheng', ' zhao lusi', ' wang mengli', ' liu yitong', 'cheng yi', ' yuan bingyan', ' liu xueyi', 'arjun chakraborty', ' madhumita sarkar', ' paoli dam', 'rebel wilson', ' joel creasey', ' frank woodley', ' anne edmonds', ' becky lucas', ' nick cody', ' nazeem hussain', ' dilruk jayasinha', ' susie youssef', ' sam simmons', ' ed kavalee', 'dhanush', ' sneha', ' mehreen pirzada', ' naveen chandra', ' naser', ' munishkanth', ' sathish', 'grace tamayo', ' erin webbs', 'jaden smith', ' cara delevingne', ' cuba gooding jr.', \" chris d'elia\", ' jt neal', ' stony blyden', ' peter macneill', ' rza', ' nia long', 'ragini prajwal', ' mukhyamantri chandru', ' sudharani', ' achyuth kumar', ' avinash', ' rajesh nataranga', ' krishna hebbale', ' mandya ramesh', ' nagaraj murthy', ' siri prahlad', ' madhu hegde', ' likhitesh', ' imran pasha', 'colin lane', ' frank woodley', 'scottie thompson', ' jane seymour', ' madeline zima', 'gary king', ' terri king', ' teddy king', ' chloe ferdinando', ' darren ferdinando', ' denise king', ' big gary king', 'hugh jackman', ' jean-georges vongerichten', ' marja vongerichten', 'kevin james doyle', 'ashley pearson', ' gemma calvert', ' dorian lynskey', ' daniel cain', 'amit bhargav', ' thenuka kantharajah', 'jolie hoang-rappaport', ' tyler sanders', ' jenna qureshi', 'judith lucy', 'olivia dejonge', ' william fichtner', ' alex neustaedter', 'jonas kaufmann', ' christiane kaufmann', ' charlotte kaufmann', ' thomas voigt', ' professor helmut deutsch', ' judith williams', ' alexander-klaus stecher', 'parry gripp', 'jimmy o. yang', 'jim gaffigan', 'jennifer aniston', ' sharon feingold', 'jayde adams', 'jay mohr', 'mike', ' robin', ' joel', ' nikki', ' lauren', 'james may', 'james may', ' nikki morgan', 'garth brooks', ' brad paisley', ' ben folds', 'terry maratos', ' rachel kylian', ' christopher kriesa', 'destynee raines', ' j.d mccarthy', ' lashaun todman', ' nate taylor', ' janesha corbit', ' sharon washington', ' ronald swinton', ' dajaveon bellamy', ' makayla grobsmith', ' mareona theus', \" ja'naysha odister\", ' tyrone tizak jackson', 'jake gosden', ' octavia kaliszak', 'ilana glazer', 'aravind sa', 'al pacino', ' logan lerman', ' jerrika hinton', ' lena olin', ' saul rubinek', ' carol kane', ' josh radnor', ' greg austin', ' tiffany boone', ' louis ozawa', ' kate mulvany', ' dylan baker', 'dr. venus opal reese', 'liam neeson', ' kate walsh', ' robert patrick', ' anthony ramos', ' jeffrey donovan', ' jai courtney', 'janelle monáe', ' hong chau', ' chris cooper', ' stephan james', 'natasha bure', ' ben elliot', 'peter greenberg', 'michael brown', ' anne benson', ' todd dehring', ' angela olson', 'esmé creed-miles', ' mireille enos', ' dermot mulroney', 'prosenjit chatterjee', ' anirban bhattacharya', ' tanusree chakraborty', 'amitabh bachchan', ' ayushmann khurrana', ' farrukh jafar', ' vijay raaz', ' brijendra kala', ' srishti shrivastava', 'al weaver', ' kacey ainsworth', ' robson green', ' tessa peake-jones', ' tom brittney', \"pol' atteu\", ' patrik simpson', ' snowwhite simpson-atteu', 'shen yilun', ' wang ziwen', 'yvonne kusters', 'gina brillon', 'natasha little', ' rupert penry-jone', ' rachel blanchard', ' linda kash', ' duane murray', ' mark forward', ' ace hicks', ' christopher jacot', ' zach smadu', ' merran carr-wiggin', ' dean armstrong', ' shauna black', 'eddie izzard', ' kate dickie', ' james cosmo', ' samuel bottomley', ' viraj juneja', ' rian gordon', ' lewis gribben', 'lil rel howery', ' corey hendrix', 'joe pantoliano', ' wendy crewson', ' marco leonardi', ' paula brancati', ' tony nardi', ' tony nappo', ' kevin hanchard', ' franco lo presti', 'danish sait', ' disha madan', ' rangayana raghu', ' nagabhushana', ' sindhu murty', ' mahantesh hiremath', ' sampath kumar', ' mohammed ashraf', ' kirthana kumar', ' michael madhu', ' pitobash', ' nagesh jaikumar', ' prashanth', ' rj vikish', ' chikkanna', 'kaley wheless', ' nick offerman', ' david krumholtz', ' martin starr', ' keith poulson', 'oka antara', ' rio dewanto', ' chicco jerikho', ' mike lewis', ' arifin putra', ' verdi solaiman', ' julie estelle', 'sayani gupta', ' kirti kulhari', ' maanvi gagroo', ' bani j', ' pratiek babbar', ' neil bhoopalam', ' lisa ray', ' milind soman', ' samir kochhar', 'katja riemann', ' justus von dohnányi', ' laila marie noëlle padotzke', ' anna thalbach', ' hedda erlebach', ' lilith julie johna', ' leonore von berg', 'randy wayne', ' adrienne barbeau', ' mandahla rose', 'rick kain', ' belle shickle', ' emily peachey', 'erin gray', ' paris warner', ' jasen wade', ' kisha sharon oglesby', ' david keith', 'michael krebs', ' jake lawson', ' sean marquette', 'tiziano ferro', ' victor allen', ' fabrizio giannini', ' fabio fazio', ' bianca balti', ' brigitte nielsen', ' amadeus', ' massimo ranieri', 'ewan mcgregor', ' valentino rossi', ' max biaggi', ' garry mccoy', ' john hopkins', ' wayne rainey', ' kevin schwantz', ' kenny roberts', ' barry sheene', 'tantoo cardinal', ' tina keeper', ' johnny issaluk', ' gail maurice', ' rob stewart', 'tory monay', ' alexandria elizabeth', ' krystal monique', ' james abernathy', ' marcus woods', ' james \"the king\" perkins', ' kameel hasaun (diezel)', ' andrew calhoun', \" dierra a'dawn lewis\", ' leah olsen', ' conrad johnston', ' kayden bryce', ' arrie lane', 'zhao yi qin', ' eleanor lee', ' garvey jin', ' chen si yu', 'vasilios filippakis', ' shadrack jackman', ' helen hayden', ' nicholas combitsis', 'luke barnett', ' tanner thomason', ' margaret cho', 'toby wallace', ' cody fern', ' odessa young', ' noah robbins', ' sandra senaka', ' john kyle sutton', ' robert zachar', ' jason hildebrandt', ' will rogers', ' ryan jonze', ' marta kaczmarek', 'hannah fierman', ' geoff mcknight', ' zach galligan', 'maro itoje', ' beno obano', ' anthony watson', ' ellis genge', ' biyi alo', 'abigail thaw', ' anton lesser', ' caroline o’neill', ' james bradshaw', ' roger allam', ' sean rigby', ' shaun evans', 'aden young', ' parker posey', ' ken jeong', ' beau bridges', ' jacki weaver', 'andrés parra', ' paulina gaitán', ' karla souza', 'james purefoy', ' erendira ibarra', ' josé maría de tavira', ' joaquín cosío', ' esmeralda pimentel', 'eddie pence', 'pastor troy', ' malan boykin', ' shawty lo', 'michelle luther', \" aidan o'neill\", ' scott suter', ' amanda hunt', 'matthew mordovanec', ' alex mistretta', ' danielle winkler', ' nick redfern', 'michela luci', ' saara chaudry', ' richie lawrence', ' evan witten', ' trek buccino', ' jason spevack', ' nicola correia-damude amish patel', ' millie davis', 'michela luci', ' saara chaudry', ' amish patel', 'dilruk jayasinha', 'dhanush', ' sneha', ' mehreen pirzada', ' naveen chandra', ' naser', ' munishkanth', ' sathish', 'craig sechler', 'juan echanove', ' alberto fernández bombín', ' joan roca', ' armando del rey', ' luis alberto lera', ' paco morales', ' bittor arginzoniz', ' pepe solla', ' francis paniego', ' ricardo camarena', 'rajinikanth', ' nayanthara', ' sunil shetty', 'rajinikanth', ' nayanthara', ' sunil shetty', 'rajinikanth', ' nayanthara', ' sunil shetty', 'addison holley', ' amariah faulkner', ' dalila bela', ' ellen kennedy', ' filip geljo', ' heather bambrick', ' hyuma frankowski', ' jaden waldman', ' jake beale', ' jayce bartok', ' jules arita koostachin', ' justice quiroz', ' katrina salisbury', ' kayla erickson', ' lorne cardinal', ' michelle thrush', ' millie davis', ' molly lloyd', ' nicholas kaegi', ' pawaken koostachin-chakasim', ' ronald dean harris', ' sean michael kyer', ' sequoia janvier', ' shawn youngchief', ' stuart ralston', ' ted dykstra', 'waylon payne', ' ali larter', ' lane garrison', \"miles o'brien\", 'varun dhawan', ' sara ali khan', ' paresh rawal', ' javed jaffery', ' rajpal yadav', ' sahil vaid', ' johny lever', ' shikha talsania', ' vikas verma', ' anil dhawan', ' manoj joshi', ' bharti achrekar', 'sebastián zurita', ' tato alexander', ' roberto flores', ' fabrizio santini', ' octavio hinojosa', ' lucía gómez-robledo', ' pamela almanza', 'gary crenshaw', ' lionel culpepper', ' derrell cleveland', ' denzell manning', ' brittney lipsey', ' gabriella lee', ' guy bailey', ' james woods', ' antonio dorsey', 'karthik kumar', ' praveen kumar', ' rajmohan arumugam', ' vidyullekha raman', ' mervyn rozz', ' abishek kumar', ' annamalai lakshmanan', ' karthigeyan durai', ' mayandi karunanithi', ' syama harini', ' yogesh jagannathan', 'claudia oshry', 'mikhail khodorkovsky', 'kenyatta deett', ' jamal \"gravy\" woolard', ' ciera angelia', ' demaris harvey', ' kristin clarke', ' david bianco', ' london johnson', ' tony lee', ' gratz', ' brenae clarke', ' frank brandon', ' steve piper', 'jitendra joshi', ' amruta khanvilkar', ' aniket vishwasrao', ' kshitee jog', ' hemant dhome', ' kirti pendharkar', 'malin akerman', ' bella thorne', ' alec baldwin', ' dulcé sloan', ' kevin connolly', ' fortune feimster', ' kevin nash', 'rajkummar rao', ' nushrratt bharuchaa', 'tucker boner aka jericho', ' annemunition', ' actionjaxon', ' goldglove', ' jordan fisher', ' ron funches', ' justin willman', ' brittney griner', ' bryan aka beewhyan', ' chelsea aka chelseabytes', ' michael aka redvacktor', 'celia pacquola', 'shelby young', ' keylor leigh', ' will haza', ' paula rhodes', ' aneesha dubois', 'roberto álamo', ' miriam giovanelli', ' belén lópez', ' raúl tejón', ' itziar atienza', ' marta larralde', ' álex villazán', ' andrea trepat', ' luis rallo', ' carlos hipólito', ' julieta serrano', 'sean bridgers', ' christopher berry', ' nick searcy', ' sonny shroyer', 'amazon kids', 'fahadh faasil', ' darshana rajendran', ' roshan mathew', ' saiju kurup', ' mala parvathy', 'fahadh faasil', ' darshana rajendran', ' roshan mathew', ' saiju kurup', ' mala parvathy', 'jessika van', ' feodor chin', ' lanny joon', ' anisha adusumilli', ' leonard wu', ' gigi gustin', ' rachel alig', ' kristen vaganos', ' jonathan p. sims', ' teddy larsen', ' chris king wong', ' chris elsenbroek', ' nick bouier', ' colin molloy', ' susan chuang', ' vishesh chachra', ' bruce clifford', ' david pinion', ' jake jacobson', ' hilary barraford', ' philicia saunders', ' andre franco', ' jessica davis', ' douglas kim', ' laura liefer', ' chris markle', ' michael cosentino', 'vern yip', ' carisha swanson', 'abigail harrison', ' nilah rivera', ' logan smith', 'thenuka kantharajah', ' simson bubbel', ' nico birnbaum', 'colin dobson-fox', ' shaun dobson-fox', 'brian aylward', 'abhishek a. bachchan', ' amit sadh', ' nithya menen', ' saiyami kher', ' hrishikesh joshi', ' shrikant verma', 'owen alabado', ' dash kwiatkowski', ' brad loekle', 'joseph s. lambert', ' nikki stinson', ' kieran katarey', ' maxx rinehart', ' siobhan lumsden', 'morgan saylor', ' sophie lowe', ' margo martindale', ' june squibb', \" annette o'toole\", ' marceline hugot', 'stevin john', 'stevin john', 'kenjiro tsuda', ' ayane sakura', ' nozomu sasaki', ' tatsuhisa suzuki', ' eiji hanawa', 'susan sarandon', ' kate winslett', ' mia wasikowska', ' sam neill', ' rainn wilson', 'matt rife', ' ellie patrikios', ' grayson thorne kilpatrick', ' dogen eyeler', ' gemma brooke allen', 'chris simoes', ' dave watkins', ' betsy mitchell', ' joshua haire', ' tom thon', ' peg thon', ' ian isaksson', ' lashay lanier', ' john paul kakos', ' tripp patterson', ' chris burns', ' patrick lemon', ' whitney sullins', ' jim adams', ' paul kakos', ' joe walsh', ' grant garlinghouse', 'brett cullen', ' manny perez', ' michael rabe', ' micheál richardson', ' bonnie swencionis', ' lance henriksen', ' scott cohen', ' deidre lovejoy', ' jeff kober', ' pooya mohseni', ' dennis flanagan', ' louis carbonneau', ' tony naumovski', ' ari barkan', ' stivi paskoski', ' declan michael laird', ' ana isabelle', ' katarina morhacova', ' laurence mason', 'vicky kaushal', ' bhumi pednekar', ' ashutosh rana', 'aravinnd iyer', ' achutha kumar', ' aarohi narayan', ' priyanka thimmesh', 'mike canton', ' oliver wang', ' al gee', 'ben posener', ' yan schoenefeld', ' christian serritiello', ' trevor silverstein', 'chico benymon', ' courtney cameron', ' billy sorrells', ' dominque perry', 'c. thomas howell', ' james hong', ' leslie easterbrook', ' ray wise', ' james duval', ' robert costanzo', 'america young', 'naseeruddin shah', ' shreya chaudhry', ' ritwik bhowmik', ' atul kulkarni', ' amit mistry', ' sheeba chaddha', ' rajesh tailang', ' kunaal roy kapur', ' rahul kumar', ' meghna malik', ' tridha choudhury', ' dilip shankar', ' rituraj k singh', ' shashi kiran', 'baggy', 'yuichi nakamura', ' takahiro sakurai', ' kensho ono', ' m・a・o', ' kenyu horiuchi', 'kiki', ' miumiu', ' mimi', ' timi', 'heidi lynch', ' perrie voss', ' faye marsay', ' brenda robins', ' mag ruffman', ' nelu handa', ' andrew moodie', ' jefferson mappin', ' scott cavalheiro', ' alexander nunez', 'bobby r. inman', 'chloë levine', ' kimie muroya', ' bubba weiler', ' steve lipman', ' clea lewis', 'anne edmonds', 'dean radin', 'peter coyote', ' jason london', ' vivien cardone', ' peter boyle', ' patton oswalt', 'jeffrey lurie', ' doug pederson', ' carson wentz', ' zach ertz', ' malcolm jenkins', ' brandon graham', 'zach ertz', ' brandon graham', ' doug pederson', ' jeffrey lurie', ' malcolm jenkins', ' carson wentz', 'alice fraser', 'naveen polishetty', ' shruti sharma', ' chanakya tejas', ' krishneswara rao', ' suhas', ' ramdutt', ' kranthi priyam', ' appaji ambarisha darbha', 'rufus sewell', ' sean pertwee', ' kaya scodelario', ' bertie carvel', ' sheila atim', ' christopher bianchi', ' madeleine bowyer', ' georgina campbell', ' kim chapman', ' kathy kiera clarke', ' james fleet', ' poppy gilbert', ' nicky goldie', ' henry lloyd-hughes', ' ellen robertson', ' claire skinner', ' rita tushingham', ' sarah woodward', ' martin buchan', ' ben nathan', 'gulshan devaiah', ' anjali patil', ' heeba shah', ' robin das', 'patrick south', ' axel south', ' sarah south', ' river south', 'dhanush', ' sneha', ' mehreen pirzada', ' naveen chandra', ' naser', ' munishkanth', ' sathish', 'christopher cassarino', ' brian muller', ' sergey nagorney', ' brad koed', ' will stout', 'stana katic', ' patrick heusinger', ' matt le nevez', ' neil jackson', ' natasha little', ' christopher colquhoun', ' patrick mcauley', ' paul freeman', 'suriya', ' paresh rawal', ' mohan babu', ' aparna balamurali', ' urvashi', ' karunas', ' vivek prasanna', ' krishna kumar. b', ' kaali venkat', ' poo ramu', ' achyuth kumar', ' prakash belawadi', ' hans kaushik', ' dan dhanoa', 'jean chambre', ' lygia beatriz', 'lygia beatriz', ' jean chambre', ' lucas daniel', 'jack parr', ' jake watkins', ' ole madden', ' nathaniel farah', ' charlie harris', ' bruce herbelin-earle', ' alexandra marlin', ' dan sheppard', ' rochelle naylor', ' james coutsavlis', ' samuel curry', ' callum hart', ' julia goodinson', ' nadhia porcelli', 'timothée chalamet', ' jude law', ' elle fanning', ' liev schreiber', ' selena gomez', ' suki waterhouse', ' diego luna', ' rebecca hall', ' kelly rohrbach', 'felissa rose', ' damian maffei', ' kristi ray', ' erika edwards', ' gunner willis', 'kristen anne ferraro', ' corbin bersen', ' dwayne thomas', ' eric wolf', ' lori petty', 'anne-marie newland', 'anne-marie newland', \"donna d' cruz\", 'fred ewanuick', ' tasya teles', ' michael coleman', ' josh blacker', ' amy goodmurphy', ' sean owen roberts', ' rhonda dent', 'christa pasch', ' roberta bianchini', ' nadine nourney', ' dominic anglim', ' howard corlett', ' tony moore', ' felix kosse', ' michael glover', ' robyn rosenkrantz', \"donna d' cruz\", 'eliz perez', 'anne-marie newland', 'maggie binkley', 'maggie binkley', 'maggie binkley', \"donna d' cruz\", 'anne-marie newland', 'anne-marie newland', 'anne-marie newland', 'ramana', ' sanjeiv', ' praveen prem', ' varsha bollamma', ' aiswarya gowda', ' chetan gandharva', 'anne-marie newland', 'george conway', ' anthony scaramucci', ' bill kristol', ' malcolm nance', ' ruth ben-ghiat', 'jenn gotzon', ' jim e. chandler', ' corbin bernsen', ' john schneider', ' natasha bure', ' robert amaya', 'ronen rubinstein', ' mia serafino', ' crispin glover', 'tommy dewey', ' françois arnaud', ' minka kelly', ' ricco ross', ' vishesh chachra', ' alexis krause', ' robin gammell', ' elaine partnow', 'jaden smith', ' cara delevingne', ' cuba gooding jr.', \" chris d'elia\", ' jt neal', ' stony blyden', ' peter macneill', ' rza', ' nia long', 'daniel radcliffe', ' samara weaving', ' rhys darby', 'desmond harrington', ' lea thompson', ' julie mond', ' fred ward', 'tory monay', ' tristin fazekas', ' marcia adams', ' ericka elyse', ' dan schmidt', ' lorenzo orlando', ' will coleman', 'maggie binkley', 'nani', ' sudheer babu', ' nivetha thomas', ' aditi rao hydari', 'nani', ' sudheer babu', ' nivetha thomas', ' aditi rao hydari', 'colin edwards', ' nicky hayde', ' john hopkins', ' valentino rossi', 'collin shepard', ' alissa shayle hale', ' bryen lenis', 'jack serino', ' travis zariwny', ' cassidy lunnen', ' scott walker', ' tom burruss', ' bern kubiak', ' jim rosenthal', 'tammy pescatelli', 'sir ben kingsley', ' mercedes ruehl', 'suriya', ' paresh rawal', ' mohan babu', ' aparna balamurali', ' urvashi', ' karunas', ' vivek prasanna', ' krishna kumar. b', ' kaali venkat', ' poo ramu', ' achyuth kumar', ' prakash belawadi', ' hans kaushik', ' dan dhanoa', 'ayushmann khurrana', ' jitendra kumar', ' gajraj rao', ' neena gupta', ' manu rishi chadha', ' maanvi gagroo', ' sunita rajwar', 'chad halbrook', ' sasha higgins', ' chester gayao', ' abel becerra', 'jayaram', ' oorvasi', ' kalidas jayaram', '  kalyani priyadarshan', '  m s baaskar', '  ritu varma', '  shruti haasan', '  suhasini mani ratnam', '  anu hasan', '  kathadi ramamurthy', '  komalam charuhasan', '  andrea jeremiah', '  gurucharan c', '  leela samson', '  simha', '  sharath ravi', '  k muthukumar', 'greg grunberg', ' wil wheaton', ' kevin smith', 'kim mcvicar', 'sharwanand', ' samantha', 'nick jonas', ' joe jonas', ' kevin jonas', ' priyanka chopra jonas', ' sophie turner', 'hannibal thompson', 'greg warren', 'lee altus', ' russ anderson', ' death angel', 'stickgang biz', ' macc dundee', ' freeway ricky ross', ' scruncho', ' hakeem lo', ' genesis newsome', ' efrem peoples', ' steven ewing jr', ' anita stixrud', ' blair partlow', ' adejah samuels', 'bhumi pednekar', ' arshad warsi', ' jisshu sengupta', ' mahie gill', ' karan kapadia', 'varun dhawan', ' sara ali khan', ' paresh rawal', ' javed jaffery', ' rajpal yadav', ' sahil vaid', ' johny lever', ' shikha talsania', ' vikas verma', ' anil dhawan', ' manoj joshi', ' bharti achrekar', 'elijah wood', ' stephen mchattie', ' michael smiley', ' madeleine sami', ' simon chin', 'maggie binkley', 'maggie binkley', 'tyler mauro', ' kayliegh gilbert', 'james cromwell', ' jacki weaver', ' dennis waterman', ' jack thompson', ' shane jacobson', ' roy billing', ' max cullen', ' renee lim', ' darren gilshenan', ' simone annan', ' zachary wan', 'jeremy piven', ' olivia mai barrett', ' hadar cats', ' megan brown martinez', ' roger aston-griffiths', ' nathalie cox', ' joely richardson', 'rajkummar rao', ' nushrratt bharuchaa', 'dylan waller', 'kyle lance martin', ' dr. robert e. coleman', ' bobby harrington', ' michael miller', 'julianne moore', ' alicia vikander', ' timothy hutton', ' lorraine toussaint', ' janelle monáe', ' bette midler', 'kristen stewart', ' jack o’connell', ' margaret qualley', ' zazie beetz', ' yvan attal', ' stephen root', ' colm meany', ' vince vaughn', ' anthony mackie', 'colleen slattery', ' nicholas wilder', ' sarah villegas', 'damien bonnard', ' alexis manenti', ' djebril zonga', ' issa perica', ' al hassan ly', ' steve tientcheu', ' almamy kanouté', ' nizar ben fatma', 'theo james', ' stacy martin', ' rhona mitra', 'torrei hart', ' jamal woolard', ' khalida medlock', ' benzino', ' dennis \" l.a.\" white', ' mann robinson', ' nicole \" hoops\" alexander', 'curt lambert', ' joe cornet', ' kelsey bohlen', ' vitta quinn', 'amitabh bachchan', ' ayushmann khurrana', ' farrukh jafar', ' vijay raaz', ' brijendra kala', ' srishti shrivastava', 'dan cummins', 'stephen rashbrook', 'duncan coe', ' ian pala', ' ivy meehan', ' james c. leary', ' marco perella', 'jeremiah watkins', 'chulpan khamatova', ' andrey burkovsky', ' konstantin khabencky', ' philipp avdeev', 'dennis m. lynch', ' michael cutler', ' chris harris', ' agnes giboney', 'brian jones', ' anita pallenberg', \" terry o'neill\", 'dr. mark ibsen', ' sherri l. little', ' dr. howard jacobs', ' hunter kemp', ' olivia mechali', 'tristin fazekas', ' crystal the doll', ' daris (dw) bass', ' tory monay', ' indigo holiday', ' marcus (j-boy) jenkins', ' kaydence alise meeks', 'kate britton', ' jared van heel', 'stacey abrams', ' ari berman', ' david pepper', ' carol anderson', ' sean j. young', ' lauren groh-wargo', ' o.j. & barbara semans', ' kristen clarke', ' michael waldman', ' desmond meade', ' eric holder', ' marcia fudge', ' alejandra gomez', ' eric foner', ' debo adegbile', ' jayla allen', ' michael parsons', ' luci baines johnson', ' frances fox piven', ' andrew young', ' bert rein', 'ricky schroder', ' rick hoffman', ' jon gries', ' jason spisak', ' jon polito', ' krista allen', ' tatyana ali', ' david huddleston', ' curtis armstrong', ' bart johnson', ' jesse garcia', ' steve eastin', ' victor campos', ' jason marsden', ' alexander polinsky', ' marina benedict', ' thomas calabro', ' jose rosete', 'elnaz shakerdust', ' hootan shakiba', ' fereshteh sadre orafaiy', ' pedram sharifi', 'fox rich', ' rob g. rich', 'ben lugo touitou', ' jide kosoko', ' ayo adesanya', ' jibola dabo', 'kenneth okolie', ' tadasay young', ' kofi adjorlolo', ' lilian esoro', ' ngozi ezeonu', 'magnus ringblom quartet', 'nara monteiro', ' gláucio gomes', ' oscar calixto', ' gustavo ottoni', ' higor campagnaro', ' maria esmeralda forte', ' ricardo soares', ' ricco lima', ' marcus dioli', 'léonie langlart', ' julien ivanowich', ' bruce lalande', ' vincent terrier', 'bruce davison', ' holly taylor', ' rita volk', 'viola davis', ' mckenna grace', ' jim gaffigan', ' mike epps', ' charlie shotwell', ' allison janney', 'lee partridge', ' mickey rourke', ' bai ling', ' joaquim de almeida', ' vladimir kulich', ' mark arron', 'scarlett diamond', ' vincent vargas', ' adam hightower', 'nani', ' sudheer babu posani', ' nivetha thomas', 'ethan taylor', ' robert nairne', ' lucy-jane quinlan', ' kathleen ray', ' philip ridout', 'schea cotton', ' gaynell cotton', ' james cotton sr.', ' james cotton jr.', ' baron davis', ' paul pierce', ' randy moss', ' stephen jackson', ' scoop jackson', ' gary mcknight', ' metta world peace', 'pol lópez', ' fernando sansegundo', ' chani martín', ' laura gómez-lacueva', ' alberto castrillo-ferrer', 'matt schlapp', ' mercedes schlapp', ' dan schneider', ' ian walters', 'bret adee', ' jack algiere', ' jeff anderson', ' alan ard', ' dan barber', ' leigh-kathryn bonner', ' zak browning', ' glenn card', ' steve clarke', ' lucas criswell', ' william criswell', ' james frazier phd', ' maryann frazier', ' christina grozinger phd', ' dave hackenberg', ' davey hackenberg', ' bob harvey', ' neil hinish', ' susan kegley phd', ' jonathon lundgren phd', ' bill mckibben', ' jeffrey pettis phd', ' samuel ramsey phd', 'jj whitehead', ' ross shuman', ' luke asa guidici', ' madeline klein', ' sydney gonzalez', 'tori keeth', ' chloe lukasiak', ' jenn gotzen chandler', ' anna maria perez de tagle', ' joy regullano', ' angelique sabrina white', ' carter southern', ' stelio savante', ' kassandra voyagis', ' bishop donnie williams', ' marriette hartley', 'kiki', ' miumiu', ' mimi', ' timi', 'brandon michael thomas', ' jaytee thompson', ' kendon tillis', ' darryl griffin', ' morgan day', ' tom alper', ' tyler gordon', ' brian cogley', ' sydney carwill', ' toby guebert', ' fareed parker', ' roy berry', ' ariel brown', ' ed regine', ' tye mills', ' h.cali hughes', ' davonta blanson', ' spider loc', ' ramone babeeloc darwin', ' queen b.g.', ' byron haskins', ' wrekless watson', ' damon burgess', ' elester latham', ' ms. michelle', ' infant jay', ' davion evans', ' victoria hoang', ' tim misuradze', ' diana caban velez', ' ava miri', ' robert artz', ' mystic bluee', ' tizhon tapp', ' isaiah r. munoz', 'sydney sweeney', ' madison iseman', ' jacques colimon', ' ivan shaw', 'gabriel huian', ' vlad balan', ' alexandru voicu', \"shaunii arce'\", ' dondre smithen', 'christina morrell', ' helen kennedy turner', ' lizza monet morales', ' paulette patterson', 'isabelle barbier', ' deeksha ketkar', ' sadie scott', 'raylene harewood', ' brian markinson', ' david lewis', 'caitlin harris', ' chris wellington', ' emily seale-jones', ' lauren harris', ' owen drake', 'giacomo gianniotti', ' laysla de oliveira', ' rachel skarsten', ' raymond ablack', ' adelaide kane', ' jonathan keltz', ' mouna traore', ' parveen kaur', 'aaron eckhart', ' tommy lee jones', ' katheryn winnick', ' heather graham', 'lee dae-han', ' kang ye-bin', ' hong dal-pyo', 'karim kassem', ' eric kabongo', ' jean-luc couchard', ' sarah abdulrahman', ' mourade zeguendi', 'mariko shiga', 'lin yun', ' song wei long', ' peter ho', 'saul febo', ' jefferey williams', 'abir chatterjee', ' rukmini maitra', 'marco pérez', ' paulina gaitán', ' yuriria del valle', ' flavio medina', ' roberto sosa', ' esteban soberanes', ' david ostrosky', ' montserrat marañón', ' eduardo arroyuelo', ' fran meric', ' silvia mariscal', ' fernando becerril', 'gary dourdan', ' steven berkoff', ' steven brand', ' gianni calchetti', ' adam deacon', 'jack turner', ' fernanda diniz', ' steven berkoff', 'steve guttenberg', ' vas blackwood', ' ian reddington', ' daniel caltagirone', ' adam decon', 'jessica mcnamee', ' ben geurens', ' nathaniel dean', ' peter phelps', 'lachlan nieboer', ' alicia agneson', ' klara mucci', ' brian caspe', 'arantxa de juan', ' gaby gnazzo', ' jassiel', ' juan josé de abreu', ' gretel roux', ' gina faarup cochez', ' leonte bordanea', ' cherry miko', ' sahajak boonthanakit', 'wong sze zen', ' chuen chuen', ' vick teo', ' alvin wong', 'torsten hoffman', ' vitalik buterin', ' andreas m. antonopoulos', ' charlie lee', ' preethi kasireddy', ' laura shin', ' vinny lingham', ' samson mow', ' roger ver', 'paul bettany', ' sophia lillis', ' peter macdissi', ' judy greer', ' steve zahn', ' lois smith', ' margo martindale', ' stephen root', 'aml ameen', ' georgia king', \" mark o'brien\", 'lili reinhart', ' austin abrams', 'joseph gordon-levitt', ' omid memar', ' carlo kitzlinger', ' aylin tezel', ' murathan muslu', ' paul wollin', ' aurélie thépaut', ' passar hariky', ' denis schmidt', ' max schimmelpfennig', ' anna suk', 'denyce lawton', ' harold house moore', ' denise boutte', 'edmund hillary', 'ashley hays wright', ' cadence wright', ' david owen right', 'isaac stephen montgomery', ' marshal glenn', ' vic stagliano', ' angel valerio', ' m. stephen felty', ' casey printers', ' lawrence williams', ' david wendell boykins', ' orion mccabe', 'florent hill', ' louis sers', ' léo ferrand', ' romain dorn', 'david massil', ' solana paz', ' kevin black', ' keely dervin', ' rebecca massil', ' christina ahluwalia', ' tique lee caul', ' desra dervin', ' manuel camacho', 'josh hartnett', ' jim gaffigan', ' antoine olivier pilon', ' stephen mchattie', ' don mckellar', ' j. c. mackenzie', ' amanda crew', 'passion williams', ' tiffany thompkins', ' myra jones', 'marina esteve', ' paco manzanedo', ' susana abaitua', ' pol cardona', 'avinash yelandur', ' samyukta hornad', ' anju alva naik', ' nanda gopal', ' mahesh bung', ' gopalkrishna deshpande', ' sripathi manjanabailu', ' aravind kuplikar', ' prema t', ' hemanth narayan', ' srikanth lv', ' anjum anand', ' deepak ramesh', 'david christians', ' kristal schlichting', ' anonymous vitaly', ' anonymous englander', ' kevin martin', ' lance caver', ' brad royer', ' andrew costello', ' anonymous nada', ' chris pierce', ' dave smith', ' tristan luciotti', ' diana super', ' john ruth', 'jason say', ' jon collins', 'common', 'chad michael murray', ' bruce willis', ' shea buckner', ' tyler jon olson', ' lydia hull', ' riley wolfe rach', ' jessica abrams', 'steve r. watts', ' steve and maggie', 'nat wolff', ' iben akerlie', ' per frisch', ' priyanka bose', ' per egil aske', 'james whitmore', 'chelsea peretti', ' susan kent', ' amy groening', 'evgeniya yarushnikova', ' fluora iskhakova', ' vitt ray', 'bill connington', ' leenya rideout', ' marcus ho', ' nandita shenoy', ' vivia font', ' maxwell purushothaman', ' carole monferdini', ' stu richel', ' leon andrew joseph', ' elizabeth pojanowski', ' donovan mitchell', ' rich liu', ' maeve seto', ' sarah megan thomas', ' chalia la tour', ' ryan j. haddad', ' cadden jones', ' chris mcginn', 'benjamin zgorecki', ' crystle paynther', ' keith collins ii', ' matt kane', ' jerry sur', ' ben gardon', ' y chan', ' leland leger', ' lisa wong', ' wayne wong', 'erik peters', ' alain beger', 'jacob kyle young', ' lochlyn munro', ' angelica briones', ' lauren albo', 'brandy specks', ' antrone harris', ' allana grundy', ' bre hudson', 'huang xiao ming', ' andrew yin', ' charmaine sheh', ' yalkun merxat', ' liu min cheng', ' li ze feng', ' tan jian ci', 'gulshan grover', ' hameed sheikh', ' karma shakya', 'anushka shetty', ' madhavan', ' anjali', ' michael madsen', '\\xa0melissa anschutz', ' don most', ' victoria jackson', 'tomasz wlosok', ' karolina szymczak', ' cezary pazura', ' rafal mohr', 'tom green', ' les stroud', ' jessi combs', ' tera eckerle', ' stacy brown jr.', ' elise edwards', 'amy groening', ' t. thomason', ' marietta laan', ' shelley thompson', ' jeremy akerman', ' zach faye', ' scott bailey', ' taylor olson', ' murlane carew', ' jason daley', 'michael cudlitz', ' melanie griffith', ' pruitt taylor vince', ' suzanne quast', 'dermot mulroney', ' nicole tompkins', ' nick guerra', ' vladimir caamano', ' jonathan katz', ' brittany curran', 'felix omozusi', ' keturah king', ' joseph benjamin', ' segen genesis', ' carl allen jr.', 'marie-anne newland', 'gloria thompson', ' terry hamel', ' joanne roberts', ' jude', ' pharmacist', ' caller', ' waitress', 'svetlana khodchenkova', ' stasya miloslavskaya', ' sergey puskepalis', ' alexey barabash', 'willie wright', ' janelle marie', 'michelle rose', ' kurt yue', ' michael aaron milligan', 'yang zi shan', ' guo tao', ' angelababy', ' lu yu lai', ' rexen cheng', ' baby zhang', ' ma liang', ' ma xiao yuan', 'luis lobianco', ' giulia benite', ' pedro miranda', ' lorena queiroz', ' karina ramil', 'william forsythe', ' eoin macken', ' bill moseley', ' kristina klebe', 'ashley rene', ' joe cummings', ' houston towe', ' weston banning', ' david mason', ' patrick giglio', ' phoenix hernandez', ' babe mcguire', ' rod randolph', ' wayne lundy', 'jason anderson', ' suzette murty', ' leo dayton', ' iris dayton', ' zach wilson', ' bj hollars', ' harvey dayton', 'leo adriaansen', ' sven reinieren', 'bill crossland', ' francesca carpanini', ' isabella pisacane', ' sam daly', ' johnathan fernandez', 'bruce willis', ' cody kearsley', ' rachel nichols', ' kassandra clementi', ' johnny messner', ' corey large', ' callan mulvey', ' timothy v. murphy', ' johann urb', ' angela plagmann', ' ralf moeller', ' thomas jane', 'elena borozenets', ' kateryna tyshkevich', ' galina kobzar-slobodyuk', ' vitaliy kudryavtsev', 'satya dev', ' priya lal', ' rahul ramakrishna', ' priyadarshi', 'anastasia ivanova', ' vlad nikityuk', ' anastasia tsymbalaru', 'satya dev', ' priya lal', ' rahul ramakrishna', ' priyadarshi', 'jordi tamarit belda', ' josé polo', ' diego jimeno', 'laurence fishburne', ' juan pablo raba', ' juana acosta', ' edward james olmos', ' esai morales', ' ana isabelle', ' jon huertas', ' john heard', 'imogen bailey', ' tasneem roc', 'scott adkins', ' tommy flanagan', ' lashana lynch', ' isabelle allen', ' franz drameh', 'satya dev', ' priya lal', ' rahul ramakrishna', ' priyadarshi', 'christopher sabat', ' luci christian', 'jonathan lipnicki', ' timothy murphy', ' abby ross', 'eric roland', ' patrick mcallister', ' bryan massey', ' carrie savage', ' dalton walker', ' kimmie britt', 'ji-hu park', ' sae-byuk kim', ' seung-yeon lee', 'martina gusman', ' gerardo romano', ' andrea ferratti', ' claudio santorelli', 'neeta pillai', ' sanoop d', ' jiji scaria', 'emerald albritton', ' genelyn mcfarlane', 'paul antony rogers', ' jacob machin', ' madeline valentinis', ' annie wilson', 'kari alison hodge', ' julia eringer', ' rachel paulson', ' courtney mccullough', ' carter rodriquez', 'dylan lloyd', ' brandon ludwig', ' christine emes', ' kristen macculloch', ' kayla jo farris', ' mark grice', ' peter whittaker', \" laura m. d'alessandro\", ' juan rodriguez', ' amanda marroquim', 'varun dhawan', ' shraddha kapoor', ' prabhu deva', ' nora fatehi', 'rachel brosnahan', ' marsha stephanie blake', ' arinzé kene', 'susan sarandon', ' kate winslett', ' mia wasikowska', ' sam neill', ' rainn wilson', 'john malkovick', ' josh hartnett', ' jaime ray newman', 'stefan iancu', ' vlad ivanov', ' toto dumitrescu', ' cristian bota', ' iulia alexandra dinu', 'viviana calderon', ' pablo rodriguez', ' mauricio hoffman', ' norval calvo', ' roque ramirez', 'lb', ' arron michael', 'michael berryman', ' erin marie garrett', ' guy mayfield', ' billy blair', 'yakov smirnoff', 'jake watkins', ' katie mckenna', 'elena lyadova', ' vladimir vdovichenkov', ' sevastian bugaev', 'tasya teles', ' steve guttenberg', ' joanna pacula', ' ivan sergei', ' james callis', 'nunu thurman', ' emory lawrence', ' kamal smith', ' shelby leigh', ' sylena rai', ' takesha walker', ' megan wright', ' dez cortez crenshaw', ' demaris harvey', ' james perkins', ' keiona smith', 'mahesh babu', ' rashmika mandanna', ' vijayashanti', ' prakash raj', ' rajendra prasad', 'mahesh babu', ' rashmika mandanna', ' vijayashanti', ' prakash raj', ' rajendra prasad', 'josh blue', 'stephen rasbrook', 'anushka shetty', ' madhavan', ' anjali', ' michael madsen', 'jyotika', ' bhagyaraj', ' prathap potham', ' thiagarajan', ' parthiban', ' pandiarajan', ' subbu panchu', 'keerthy suresh', ' linga', ' madhampatty rangaraj', ' master advaith', ' mathi', 'anushka shetty', ' madhavan', ' anjali', ' michael madsen', 'indrajith sukumaran', ' joju george', ' sharafudheen', ' grace antony', ' soubin shahir', ' parvathy thiruvothu', 'imogen poots', ' jesse eisenberg', ' danielle ryan', 'alexandra kotchef', ' hannah leder', ' jovan adepo', ' michael gmur', ' pepe serna', ' phil parolisi', 'sofía sisniega', ' mariel molino', ' mauricio argüelles', ' juan pablo gil', ' josemaria torre-hütt', ' alejandra ley', ' amorita rasgado', ' concepción márquez', ' raquel garza', ' mónica dionne', ' itatí cantoral', 'grace tamayo', ' erin webbs', 'jeremy piven', ' dr. steven greer', ' daniel sheehan', ' adam michael curry', ' joe martino', ' jan harzan', ' dr. russell targ', 'tiffany tang', ' shawn dou', ' charmaine sheh', ' jing chao', ' kevin tan', ' liu yi jun', ' amber lu', ' jeffery ji', 'cha ji-hyuk', ' jo sun-ki', ' ock yun-jung', 'divya', ' vamsi', ' satya prakash', 'michael e bell', ' robert l butler jr', ' paris ray', ' jefferey e lewis', ' christopher denson', 'monica chinnakotla', ' sagarika gowda', ' vivek raj', 'martinsh kalita', ' viktoriya solovyova', ' aleksandr ustyugov', ' anastasiya imamova', ' vitaliy kishchenko', 'aleksandra sizonenko', ' vlad nikityuk', ' irina verenich-ostrovskaya', ' sergey dzyalik', 'greg schroeder', ' matthew posey', ' roxanna redfoot', 'grace tamayo', ' erin webbs', 'lb', ' aaron michael', 'joseph stam', ' wendy mitchell piper', ' ryan henderson', 'alexandre garcia', ' denildo miranda', ' michel godinho', ' nilva jardim', ' pâmela saraiva', ' sapiran brito', ' tainara urrutia', ' tom peres', 'vemanna', ' yuvaraj', ' vanessa cruez', 'arsh sehrawat', ' shrenu parikh', ' shilpa taluskar', ' mukesh tiwari', 'abi casson thompson', ' barbara dabson', 'ashwin kumar lakshmikanthan', ' chaams', 'kelsie key', ' fabian lopez', ' larry jack dotson', 'uday krishna', ' bethany rishell', ' lucy bond', ' sanjay kumar', 'gulshan devaiah', '  saiyami kher', '  komal chhabria', '  richa chadha', '  ishwak singh', '  sumeet vyas', '  lillete dubey', '  rinku rajguru', '  abhishek banerjee', '  geetika vidya ohlyan', '  palash prajapati', '  ratna pathak shah', '  shardul bhardwaj', 'chad michael murray', ' bruce willis', ' shea buckner', ' tyler jon olson', ' lydia hull', ' riley wolfe rach', ' jessica abrams', 'grace tamayo', ' erin webbs', 'gordon lightfoot', ' geddy lee', ' sarah mclachlan', 'jeff kober', ' matty cardarople', ' brett azar', ' caroline day', ' ashley austin morris', ' john behlmann', 'vinoth kishan', ' ammu abirami', 'maryam hassouni', ' mike beckingham', ' dougie poynter', 'mariya shalayeva', ' antonina komissarova', ' halyna sazonova', ' aleksey ilin', ' marina dianova', ' anna gulyarenko', ' anton filipenko', ' kirill kaganovich', ' levan mskhiladze', ' arseniy gusev', ' vitaliy bredikhin', 'jean aspen', ' tom irons', ' laurie schacht', 'rohini bir', ' jean berard', ' lucy bond', ' bethany rishell', ' sanjay kumar', ' uday krishna', ' max johnson', ' bryan brougham', ' nishi chawla', 'mark rowley', ' al weaver', ' wunmi mosaku', ' charlie hamblett', 'morgan lander', ' mercedes lander', ' tara mcleod', ' ivy vujic', ' jeff phillips', ' fallon bowman', ' jennifer arroyo', ' tanya candle', 'chandra smartt spicer', ' christopher a. greer', ' shanta renee smith', ' arthur richardson', ' kaschmeire rich', ' tina pittman', ' jennifer davis', ' rahsaan edwards', ' maurice eleby jones jr.', ' charles palmer', ' maria l. parrish', 'philip mcginley', ' stacey lynn crowe', ' christopher dunne', 'anthony hopkins', ' lisa pepper', ' aaron tucker', ' tara arroyave', ' fran tucker', 'matt steele', ' timothy brundidge', ' nicole sullivan', ' jayson bernard', ' jason stuart', ' marissa jaret winokur', ' jake busey', 'nikolaj coster-waldau', ' annabelle wallis', ' hero fiennes tiffin', ' zahn mcclarnon', ' melanie scrofano', 'joey king', ' peter sarsgaard', ' mireille enos', 'tessa thompson', ' nnamdi asomugha', ' eva longoria', ' aja naomi king', 'dave bautista', ' chloe coleman', ' ken jeong', ' kristen schaal', ' parisa fitz-henley', 'sacha baron cohen', ' maria bakalova', 'mamoudou athie', ' phylicia rashad', ' amanda christine', ' tosin morohunfola', 'sue klebold', ' mary dyer', ' zack nick', ' paul rohrer', ' lincoln dyer', 'katie holmes', ' josh lucas', ' celia weston', \" jerry o'connell\", 'ann mccaskey', ' arianna guerra', ' brian beacock', ' elizabeth maxwell', ' harold fisch', ' joe barajas', ' jordan brinkman', ' kevin brown', ' lara shah', ' marcelle purdy', ' nicole moore', ' oryan landa', ' shannon lepard', 'sunita mani', ' omar maskati', ' sarita choudhury', ' bernard white', 'stevin john', 'stevin john', 'rae hunt', ' bella martin', ' wynn reichert', 'roberto benigni', ' federico ielapi', ' rocco papaleo', ' massimo ceccherini', 'roberto benigni', ' federico ielapi', ' rocco papaleo', ' massimo ceccherini', 'murda pain', ' thomas l. harris', ' sino harris', ' lance whittington', ' deborah spencer', ' chamar avery', ' shorty rich', ' forty the great', ' justin vesper', ' tonja brown', ' ebony tates', ' kyle greenlaw', ' sylena rai', ' nia miranda', ' ashley wheatley', ' dierra lewis', ' johnathan crawford iii', ' kaamel hasaun', ' dejuan ford', ' elle breaunna', ' tristin fazekas', 'parker posey', ' fran lebowitz', ' gay talese', 'riz ahmed', ' olivia cooke', ' paul raci', ' lauren ridloff', ' mathieu amalric', 'paul tylak', \" jody o'neill\", ' morgan c jones', ' giles new', 'spence moore ii', ' nicci carr', 'giovanna landolfi', ' ciro esposito', 'ezio maria tisi', 'nam jagadeesh', ' roopika', ' divya rao', ' avinash', 'steve bongeorno', ' maria olsen', ' jt richardson', 'kamil polnsiak', ' nicolas przygoda', ' sonia mietelica', ' danuta stenka', 'ebenezer devaraj', ' neelima esai', 'iván marín', 'marcus a siler', ' monica joelle', ' gabriella scott', ' celina bagchi', ' grace rugarber', ' azuri hardy-jones', ' lashae green', ' chanel walker', ' erica stone', ' ildikó luca', ' nýa-jolie walters', \" aaron sha'd young\", ' deborah tighe', ' natasha bagchi', ' candy hagamin', ' ibtihal gassem', ' doha gassem', ' ibrahim cisse', ' victoria stevens', 'franziska fritsch', ' axel müller', ' melissa nobis', 'joshua koopman', ' meredith johnston', ' cory hardin', 'tyler schnabel', ' trystin bailey', ' paul schnabel', ' david lee hess', ' ashley beth', 'rosy zhao', ' ryan ding', ' zhou zi xin', ' sheng ying hao', ' jin yan qing', ' zhao xin', ' patrick quan', ' smile wei', 'humayun saeed', ' mehwish hayat', \"nicole d'angelo\", ' lisa london', ' shane ryan', ' chris spinelli', ' craijece lewis', ' david marc', ' mark erwin galang', 'ranjeet (gopal bedi)', ' rahul datta', ' amita yadav', ' tusharr shiv', ' prateik chaudhary', ' sambhav jain', ' himanshi bhatt', ' sandeep shrivastava', 'nicole burch', 'diane kochilas', 'david lenik', ' tessa wood', ' barrington de la roche', 'missi pyle', ' vivica a fox', ' christopher cousins', 'chris korkalo', ' mark huber', ' lila korkalo', 'nessa noel', ' jennifer silverstein', ' terrence keene', ' devin richardson', \" alicia dell'aria\", ' rochelle denise dickerson', ' rylee gabrielle king', ' tim stainrod', ' sherricka l. white', 'daniel tadesse', ' guillermo llansó', ' agustín mateo', 'andrea stefancikova', ' andy canete', ' emy aneke', ' josh blacker', ' richard lett', ' traei tsai', ' zarina sterling', 'dakota meyer', ' dick hy', ' jarred taylor', 'roksanna dawidowksa', ' jason howe', ' ryan moohan', ' christine irvine', ' tommy bru', ' eoin hamill', ' stewart blair', ' bryan gallagher', 'briana aceti', ' kailee mcguire', ' breanna engle', ' sophia zalipsky', ' dustin tyler', 'aravind sa', 'bethany anne lind', ' will patton', ' elisabeth rohm', 'emile hirsch', ' kate bosworth', ' mel gibson', ' david zayas', ' stephanie cayo', ' will catlett', ' swen temmel', ' tyler jon olson', 'viktotiya potemina', ' anastasiya gribova', ' margarita bychkova', 'rosabell laurenti sellers', ' falk hentschel', ' florence kasumba', ' désirée nosbusch', ' francis fulton-smith', ' susanne wuest', ' damian hardung', ' aleksander jovanovic', ' harvey friedman', ' anna bullard', ' lion-russell baumann', ' artjom gilz', ' branko tomovic', ' mathis wernecke', 'jacky terrasson', ' jeanne damas', ' charles pépin', ' charleyne biondi', ' manon palmer', ' annika stenvall', 'bai lu', ' leon lai', ' alen fang', ' zhai zi lu', ' xu mu chan', ' hou pei shan', 'justin furstenfeld', ' sarah furstenfeld', ' jeremy furstenfeld', ' dan furstenfeld', ' rokie furstenfeld', ' matt noveskey', ' ryan delahoussaye', ' charles b. hudson iii', ' paul nugent', ' swin swinford', ' missi callazzo', ' jessie jessup', 'smurf', ' esther toward', ' claudia barba', ' doug cockle', ' jamie lee-hill', ' debbie tarrier', ' tim clague', 'dustin rhodes', ' thom hallum', ' arthur redcloud', ' katy harris', ' billy blair', 'stanton friedman', ' kathleen marden', ' travis walton', ' dean alioto', ' stephen bassett', ' barney hill', ' betty hill', 'chinonso young', ' ifeanyi kalu', ' chris okagbue', ' bethel njoku (senator comedian)', ' cynthia shalom', ' eric obinna', ' phil eriabie', ' lorna onuoha', ' favour oma', ' dj izy beatz', ' joy anyim', ' jude orhorha', ' ada onyekpa', ' chris iheuwa', 'anastasia ivanova', ' grigoriy baklanov', ' elizaveta zaytseva', ' tamara morozova', ' aleksandr tretyachenko', 'misia lovegood', ' patrick gerber', ' leah beaudry', 'elizaveta mayskaya', ' dmitry belyakin', ' irina tkachenko', 'damilola adegbite', ' seun akindele', ' kehinde bankole', ' daniel etim effiong', 'greg clements', ' aaron warbritton', ' zach ferenbaugh', ' jake huebschman', 'boone cutler', ' sue sisley', ' hope wiseman', 'scarlett jaimes', ' liliana trujillo', 'robert downey jr.', ' george c. scott', ' gabriel byrne', 'lb', ' arron michael', 'mauriett chayeb', ' maria antonieta monge', ' paula andrea barros', 'nancy stafford', ' corbin bernsen', ' stacey dash', ' jenn gotzon chandler', ' meilssa temme', ' benjamin dane', ' tanya christiansen', ' burgess jenkins', ' gabriela kostadinova', ' paul milotte', 'shiva kandukuri', ' varsha bollamma', ' malavika satheesan', ' pavitra lokesh', ' anish yohan kuruvilla', 'ruthie', ' stacy haiduk', ' nikki love', ' farah shea', 'carolina ferraz', ' arthur vinciprova', ' nayara justino', 'alan rocha', 'nova blanco-rico', ' kevin to', ' gagandeep chahal', ' fuga obidi', ' chase page', ' joshua campbell', ' mikie ramirez', ' joseph rapallo', 'satyadev kancharana', ' pooja jhaveri', ' roshini prakash', ' ravi varma', ' srikanth iyyengar', ' hari teja', 'orlando bloom', ' janet montgomery', ' charlie creed-miles', ' deborah rock', \"nicole d'angelo\", ' christina lo', ' chris spinelli', \"nicole d'angelo\", ' james duval', ' jamie bernadette', ' elana krausz', ' sal landi', ' lisa london', ' steve polites', ' christo dimassis', ' rich mallery', 'tooth & claw field staff', 'sabumon abdusamad', ' siddharth rajendran', ' sooraj harris', ' vivek vilasini', ' kalesh', 'jeff willy', ' kirsten trammell', ' priya gopalan', ' levi connelly', ' babak shahrokh', ' anne schreiber', ' susan g. carter', ' benjamin mumford-zisk', ' altin axel', ' celina c. goetti', ' eleanor repass', ' elizabeth lawson', ' daniel neri', ' rachel patchett', ' maegan gephart', ' jennifer cramer', ' teresa hunt', 'betsy randle', ' eric ladin', ' casey deidrick', 'octavius lewis', 'aadukalam naren', ' venba', ' abi saravanan', ' appukutty', 'scott rubin', ' hui wang', ' cuty lin', ' jacqi vene', 'luca luongo', ' carolina licheri', ' michele allocca', 'danielle deadwyler', ' catherine dyer', ' jayson warner smith', ' brad carter', ' luce rains', ' adam boyer', ' charles black', ' parisa johnston', ' tim habeger', ' ezra haslam', 'stephy tang', ' chu pak-hong', ' paw hee-ching', ' jin kaijie', ' eman lam', 'héctor noas', ' alejandro palomino', ' yudexi de la torre mesa', ' candido fabre', ' maria ochoa', ' afro-cuban all stars', 'abe ruthless', \" d'artagnan driscoll\", ' jacob lacy', ' james morrison', ' jason spisak', ' jose rosete', ' kelsey bligh', ' leeann dearing', ' michaela dean', ' richard dawkins', ' ryan adelson', 'shianne daye', ' james l. edwards', ' drew fortier', ' rick jermain', ' kaylee williams', 'petra hřebíčková', ' eliška balzerová', ' tatiana dyková', 'marta castiglia', ' lucia sardo', ' federica sarno', 'ovidiu crisan', ' ion sapdaru', 'yolandi franken', ' diab metry', ' tom gay', 'sorcha groundsell', ' victoria liddelle', 'zhang yi shan', ' tina tang', ' zhang tian yang', ' zhu zhu', ' yang qi ru', ' guo yang', 'jeffrey james binney', 'derek cecil', ' kevin costner', ' alfonso cuaron', ' antoine fuqua', ' woody harrelson', 'eddie izzard', ' emily taheny', ' vanessa guide', 'joanne froggatt', ' tom riley', ' ellie copping', ' michelle dotrice', ' phoebe nicholls', 'lex quarterman', ' karla droege', ' jacquelyn zook', 'roberta colindrez', ' zachary spicer', ' john ortiz', ' judith light', 'neal mcdonough', ' brett tutor', ' jose rosete', ' david haverty', ' paul haapaniemi', 'alex riley', ' travis stevens', ' max carter', ' johnny hands', ' garrett kinsley', ' riley finch', ' jacob hansen', ' trevor harris', 'faruq tauheed', 'hanleigh baker', ' matt spease', ' alivea disney', ' susan meek', ' mercedez shaw', ' allison bryer', ' ryan heumier', ' ryan abbott', ' ashley brewer', ' amielynn woodall', ' becky bartlett', ' misty jezierski', ' cj bernard', ' shalonda michelle', ' jonathan nahlen', ' jade michael lafont', ' james a. janisse', ' holly petty', ' bailey freeman', ' emily mcclendon', ' evan goodman', ' vaughn rich', 'cameron palatas', ' alexandria deberry', ' jon gries', ' milena govich', ' dalpre grayer', ' colby french', ' lawrence saint-victor', 'samuel akinola', ' spiros ballesteros', ' luli bitri', ' anastasia rafaella konidi', 'melinda page hamilton', ' ed asner', ' bailey edwards', 'lily yasuda', ' joseph bricker', ' kelly barker', ' david kociol', 'tom hardy', ' linda cardellini', ' matt dillon', ' kyle maclachlan', 'don snipes', ' lulu dahl', ' deborah chenualt green', 'troy fromin', ' matthew ewald', ' jimmy ace lewis', ' j gaven wilde', ' tristan dye', ' chad ayers', ' virginia vogt', 'irene esser', ' gabriel agüero', ' maria antonieta hidalgo', ' djamil jassir', ' hector manrique', ' ali rondon', ' claudia rojas', ' daniela marcano', ' patricia pacheco', ' stephanie cardone', 'giovanni smooth', ' demaris harvey', ' shelby leigh', ' alphonso settles', ' tory monay', 'mia x', ' mannie fresh', ' dj jubilee', 'anita shmatova', ' arthur valente', 'kevin', ' renuka', 'richard brundage', ' brandon j. shaw', ' heather michelle', ' elisa marti', 'alessandro bernardini', ' alberto buccolini', ' marco caldoro', ' riccardo ciancarelli', ' michelangelo ciminale', 'matt lanter', ' halle hirsh', ' william russ', ' hakeem kae-kazim', ' eric tiede', ' yetide badaki', ' cindy picket', ' maiara walsh', 'timothy banfield', ' carl reed', ' james kane', ' marco guzman', ' wes bruff', 'keyona bledsoe', ' freddie t. cole jr.', ' tamika foggie', ' benjamin j. jones', ' lauren cowan', ' kanisha gross', 'issey takahashi', ' marie iitoyo', ' tomoya nakamura', 'j. alphonse nicholson', ' luray cooper', ' tray chaney', ' tye banks', ' heidi lawson', 'jason griffith', ' kate forsatz', ' laura gilreath', ' walter hoffman', ' nathan spiteri', ' christian barber', ' heidi armbruster', ' bradford how', ' maryn james', ' malachy mccourt', ' zach miko', ' samantha tuffarelli', ' lauren hooper', ' sarah haruko', ' austin michael young', ' shane nepveu', ' maggie ronck', 'brian geraghty', ' nora-jane noone', ' iddo goldberg', 'vicky knight', ' katherine kelly', ' eliza brady-girard', ' rebecca stone', 'amy desrosiers', ' valentine rogers', 'bryan sapphire', ' mike ferguson', ' sandra rosko', 'marie colomb', ' mickaël etrillard', ' niseema theillaud', ' affif ben badra', 'daisy fuentes', 'chris howley', ' melissa williams', 'scott bailey', ' darryl stephens', ' keili lefkovitz', ' adam kelsh', ' leslie zemeckis', ' richard lawson', ' al sapienza', 'trevor nagle', ' jeffrey alan foster', ' kenny beers', ' jared anderson', ' josiah frampton', ' derek crowe', ' vint carmona', ' bryan wilks', 'alex smyth', ' laura bain', ' shelby travers', ' grant hardy', ' bethany deer', 'munna', ' drishika chander', ' ravi varma', ' subbarao', 'jae head', ' hannah brie howard', ' matt williams', ' stuart miller', ' cindi miller', ' j.p. edwards', ' grace giles', ' michelle castelli', ' misty m. stewart', ' don kinmon', ' james o. miller jr.', ' jeremy dossey', ' wyatt lee turtle powell', 'oded leopold', ' udi persi', ' ruti asarsai', 'angaditheru mahesh', ' akshita', 'dilraba dilmurat', ' vengo gao', ' james li', ' lawrence wang', ' yuan yu xuan', ' fan zhi xin', 'dee wallace', ' josh server', ' courtney gains', ' vernon wells', 'jackson rathbone', ' andrea londo', ' wendy robie', 'geovanni molina', 'omar gooding', ' walter franks', ' trae ireland', ' imonte hand aka lightskinmonte', ' darren l. miller', ' veronica rich', 'laura ashley samuels', ' jenna ushkowitz', ' alexandra daddario', 'geovanni molina', 'ray winstone', 'tracey erin smith', ' kyle feistmantl', ' miles carney', ' daniel fernandes', ' elizabeth holliday', ' genevieve leblanc', ' jay daye', ' brian cope', ' karen suzuki', ' cody ray', ' sean parsons', ' flare', ' titus androgynous', ' jeff dimitriou', ' leon silvers', ' leelando mitchell', 'andy knode', ' gary kiser', 'celeste m cooper', ' sean patrick leonard', ' michael b. woods', ' tiffany renee johnson', ' sarah charipar', ' carl clemons-hopkins', ' mariah gordon', 'tamika shannon', ' stephen green', 'netta brielle', ' trestin george', ' angel manzo', ' deborah pan', ' evan joelle', ' allison ewing', 'lb', ' aaron michael', 'mary kay kayaltizer', 'dr. bill winston', 'caresse king', ' zach kieft', ' paige lauren billiot', \" michael o'neal\", 'diana hopper', ' nicole maines', ' james paxton', 'regina casé', ' rogério fróes', ' gisele fróes', ' jéssica ellen', ' alli willow', 'dr. werner vogels', 'ana dordevic', ' guido drell', ' tom von der isar', ' frederik lenke', ' gordana heyden', ' giulio avise caselli', 'george mcgill', ' david hanauer', ' tresa walker', 'amzath khan', ' gokul anand', ' arjun chidambaram', 'ranjith', ' dinesh sadasivam', ' smruthi venkat', 'ashok selvan', ' ritika singh', ' vani bhojan', ' sha ra', ' m. s. bhaskar', 'bharathiraja', ' nakshatra', ' fenon j rodriguez', ' joe malloori', ' mounika', 'guillermo del toro', ' neil gaiman', ' john carpenter', ' stuart gordon', ' peter straub', 'varalaxmi sarathkumar', ' vela ramamoorthy', ' anitha sampath', ' kawin', 'yogi babu', ' niviksha naidu', ' mithun maheswaran', 'richard cerqueira', ' dominick mancino', ' katrina lenk', ' jehan p vassau', ' ratnesh dubey', 'santhanam', ' tara alisha', ' sowcar janaki', ' anandaraj', ' rajendran', ' aadukalam naren', 'dhruv vikram', ' megha chowdhury', ' easwari rao', ' raiza wilson', ' sandra amy', 'bhavaas', ' niharika', ' aadhil', ' chella', ' saji subarna', 'nigel plaskitt', ' heather tobias', ' nix wood', ' andrew linnie', 'matthew erick white', ' lily bleu andrew', ' mathew odette', ' grant anstine', ' melissa ponzio', 'ellen hollman', ' matt passmore', ' geraldine singer', ' gary kasper', ' cam bowen', ' stephen dunlevy', 'jay bartlett', ' rob mccallum', ' kevin smith', ' steve sansweet', ' william t. benecke', ' tom kalinske', ' brian flynn', ' jordan c. morris', ' glenn stanway', ' mark taylor', 'michael pare', ' bill oberst jr.', ' tom parnell', ' kristina beringer', ' khalimah gaston', ' scot scurlock', 'sally hawkins', ' david thewlis', ' billie piper', ' penelope wilton', ' morfydd clark', ' robert pugh', ' alice lowe', ' robert aramayo', 'vijay sarathi', ' bri fitzpatrick', ' clayton margeson', ' ashton swinford', ' mike jimerson', 'brady tutton', ' richard blake', ' dawn holt lauber', ' carl ciske', 'mark sherwood', ' kelsey lacourse', ' svetlana simmons', 'teejay arunasalam', ' fouziee', ' cheenu mohan', ' kaali venkat', 'ashok saraf', ' padmini kolhapure', ' shashank udaypurkar', ' rajit kapoor', ' vikram ghokale', ' shreyas talpade', 'lucy liu', ' tamlyn tomita', ' john cothran', ' tenoch huerta', 'grant bowler', ' sonay walger', ' paul sorvino', ' james landry hebert', ' dan lauria', 'luke oswald', ' oscar derkx', ' warren cowell', ' kyle mcnalley', ' jean dadswell', ' andrea rankin', ' merran carr-wiggin', ' shane smith', ' evan hall', ' contessa young', ' joshua dean abraham', ' marcel scherger', 'keenan tracey', ' brittany raymond', ' spencer macpherson', ' brittany teo', ' luke goss', 'savanah mcmahon', ' john way', 'sterling macer jr', ' jaimi paige', ' victor h lopez', ' shashawnee hall', 'ed donaldson', ' kristin clarke', ' jenia head', ' shatyrah dexter', 'taran killam', ' brooklyn decker', ' david krumholtz', ' mark boone junior', ' david arquette', ' sienna farall', ' aimee-lynn chadwick', 'russell crowe', ' caren pistorius', ' gabriel bateman', ' jimmi simpson', 'michael joseph nelson', ' keith roenke', ' anais lucia', ' jorge ameer', ' torie tyson', \" freddy d'elia\", 'olu akanbi', ' leon copeland', ' courtney turner', ' roger killian', ' holden bath', ' linda mesi', 'margareta moir', ' morrison james', ' michael morley', ' daniel harpur', ' john ward', 'natalie shershow', ' jack levis', ' rachelle henry', ' jonah kersey', ' natasha duvall', ' neil green', ' tristan decker', 'lollu sabha jeeva', ' disha pandey', ' ganja karuppu', ' pandiarajan', 'andreas petersen', ' thomas petersen', ' katie maguire', ' eric power', 'vaibhav', ' nandita swetha', ' yogi babu', ' pandiarajan', 'kenneth chan', ' pak-ho chau', ' shiga lin', ' ray lui', ' michael tse', 'li gong', ' bo huang', ' gang wu', ' yuchang peng', ' bai lang', 'kheiron', ' thierry lhermitte', ' gérard darmon', ' ramzy bedia', 'jamal woolard', ' la love the boss', \" 3d na'tee\", ' crystal the doll', \" carmen mi'chelle\", 'yamil ureña', ' braulio castillo', ' sisan chiong', ' edgar cuevas', ' joseette vidal', ' rocio verdejo', ' azul guaita', ' elaine haro', 'yamil ureña', ' braulio castillo', ' sisan chiong', ' edgar cuevas', ' joseette vidal', ' rocio verdejo', ' azul guaita', ' elaine haro', 'cameron scoggins', ' morgan wolk', ' nicole shalhoub', ' bret lada', ' aurelia thierree', 'kris johnson', ' farah ahmed', ' david partridge', ' terri dwyer', 'eddie peng', ' yanlin wang', ' zhilei xin', ' lyric lan', 'test actor 1', ' test actor 2', 'phil blevins', ' corynn treadwell', ' silvia dionicio', ' xavier michael', ' kaleal cerafici', ' moses meads', ' cha-tah ellem', 'test actor 1', ' test actor 2', 'will dennis', ' kelsea bauman-murphy', ' kathryn grody', ' eddie alfano', ' taylor hess', 'hector camacho', ' eric drath', 'serinda swan', ' diego boneta', ' pollyanna mcintosh', ' jake lockett', ' vanessa dubasso', 'subodh pramod', ' yogesh chavan', ' gouri mahato', ' mohammad chacha', ' sushanta thapa', 'kaveesh shetty', ' priya hegde', ' krishna murthy kavatar', ' laksha shetty', ' prathik shetty', 'john adams', ' toby poser', ' zelda adams', 'david ashby', ' gabi barton', ' olive black', ' rebecca bower', 'valeria alvarez', ' joseph fernandez', ' jared berry', ' aaron louise herrera', ' athziri morales', ' armando acosta', ' kaelin li walker', ' marayah angeliz vigo', ' robbie olmos', ' bianca chauntell taylor', 'morris d. small', ' john thompson', ' rolfini whidbee', ' cory cunningham', ' tray chaney', ' vincent sistrunk', ' latonya blue', ' monica leigh', ' theron johnson', ' nikki smallwood', ' akiba robinson', ' william steagal', ' charles k. jackson', ' antjuan ward', ' dannielle ward', ' rick palmer jr.', ' prentiss watson', ' dwight r. smith', ' patrick trimmer', ' vet kett', ' calvin r. small', ' grayson trimmer', ' gilbert holloman', ' malissa duckett', ' comedy bud', ' go ezko', \" ma'khi richardson\", 'cobby', ' donna mcrae', 'craig stark', ' geffri maya', ' maestro harrell', ' tim torre', ' ski carr', ' gil darnell', ' john charles meyer', 'byron hardy', ' nadirah shakir', ' ashlee lee', ' dennis raveneau', 'christopher judge', ' tom sizemore', ' elle lamont', ' donny boaz', 'daisy masterman', ' emma-louise wilson', ' jasy holt', ' joshua diaz', ' sarah howett', 'richard brake', ' richard short', ' olivia bernstone', 'jennylyn mercado', ' dennis trillo', ' rhian ramos', 'craig fairbrass', ' terry stone', ' roland manookian', 'danny bonstock', ' jordan lage', ' timothy stickney', ' teagle f. bougere', ' colin critchley', 'sergei polunin', ' shailendra singh', 'neeraj madhav', ' punya elizabeth', ' basil joseph', ' renji panicker', ' devi ajith', ' hareesh kanaran', ' valsala menon', 'adriana matoshi', ' astrit kabashi', ' fatmire sahiti', ' mensur safqiu', ' vedat bajrami', ' irena cahani', ' shengyl ismaili', ' bislim muçaj', ' çun lajçi', ' ilire vinca celaj', 'dawn french', ' julie hesmondhalgh', ' mark heap', ' patrick robinson', ' vicki pepperdine', 'edoardo pesce', ' francesco foti', ' francesco montanari', ' marco rosetti', ' miriam dalmazio', ' roberto citran', 'shannon kane', ' donielle t. hansley', ' malik yoba', ' lamaan rucker', ' michael chenevert', ' brely evans', ' jen harper', 'joel tobeck', ' alison bruce', ' aidee walker', 'james badge dale', ' monica raymund', ' riley voelkel', ' shane harper', ' atkins estimond', ' amaury nolasco', ' dohn norwood', 'caitlin harris', ' chris wellington', ' emily seale-jones', ' lauren harris', ' owen drake', 'designer', ' ameir white', 'peyton list', ' daniel needs', 'olunike adeliyi', ' peter macneill', ' kiana madeira', ' noah dalton danby', 'yelizar nazarenko', ' maria bruni', ' udo samel', 'vlastina svátková', ' pavel kříž', ' vilma cibulková', ' milan kňažko', ' stanislava jachnická', ' nela boudová', ' tereza kostková', ' zdenek maryška', ' zuzana norisová', ' jaromír nosek', ' saša rašilov', ' alžběta staňková', ' martin stranský', ' roman vojtěk', 'lucie vondrackova', ' michael barbuto', ' martina adamcova', ' james mcdougall', ' sophie gendron', ' chris kapeleris', ' liliana komorowska', ' luc-martial dagenais', ' lisa ryder', ' hugues saint louis', ' ian fisher', ' michelle c. smith', ' jacqueline van de geer', ' lenka šourková', ' dino tavarone', ' dakota jamal wellman', ' fred nguyen khan', ' avi bendahan', ' me maria battaglia', ' nadia catino', ' deano clavet', ' roberto clavet', ' benjamin hatcher', ' arthur holden', ' catherine hughes', ' sofia metz', ' mashal nazari', ' dondre octave', ' matyáš plekanec', ' tomáš zonyga', ' vanessa perez', ' alexander peganov', ' iulia nastase', ' dany gange', 'karan nath', ' nathalia kaur', ' ganesh venkatraman', 'rory farrelly', 'richard grieco', ' jolene andersen', ' douglas tait', ' tara reid', ' johnny huang', ' robert donavan', 'franco nero', ' corinna coroneo', ' flavio sciolé', ' daphne scoccia', ' michela bruni', ' giorgia trasselli', 'icewear vezzo', ' neisha neshae', ' k deezy', ' emory lawrence', ' mena monroe', ' king wesley', 'andrea riseborough', ' karim saleh', ' michael landes', ' shirin redha', ' shahira fahmy', ' salima ikram', 'vivica a. fox', ' cody calafiore', ' ashley brinkman', ' alix kermes', 'rob riggle', 'david call', ' atsuko okatsuka', ' conner marx', 'remiara eve', ' angelica adams', ' caroline plyler', ' marie jose peltier', ' elliot wygoda', ' alexander pineiro', ' asel otunchieva', ' justen chu', ' anthony notarile', ' steve machita', 'caterina misasi', ' enrico lo verso', ' pietro de silva', ' veronica maya', ' emiliano de martino', ' rosaria de cicco', ' lucio bastolla', ' felice avella', ' pier luigi misasi', ' sebastiano gavasso', ' valentina corti', ' noemi giangrande', ' andrea napoleoni', ' antonio braucci', 'sampley barinaga', ' harrison stone', ' brittany j. smith', ' noah lombard', ' avery patz', ' jd thorne', ' brannon hollingsworth', 'jacob perkins', ' david moragas', ' jordan geiger', ' marc di francesco', 'jesse bingham', ' gerald griggs', ' natasha pearson', ' greg lockett', ' quincy bonds', ' shaun sinclair', ' shawn hutchinson', 'scott nielsen', ' natalie perez', 'clara kovacic', ' germán baudino', ' gon spina']\n",
      "anushka shetty     7\n",
      "madhavan           7\n",
      "anjali             7\n",
      "michael madsen     7\n",
      "maggie binkley     7\n",
      "                  ..\n",
      "dilip shankar      1\n",
      "rituraj k singh    1\n",
      "shashi kiran       1\n",
      "baggy              1\n",
      "gon spina          1\n",
      "Length: 3877, dtype: int64\n"
     ]
    },
    {
     "data": {
      "text/plain": [
       "'anushka shetty'"
      ]
     },
     "execution_count": 39,
     "metadata": {},
     "output_type": "execute_result"
    }
   ],
   "source": [
    "get_actor3(\"amazon\", 2020)"
   ]
  },
  {
   "cell_type": "code",
   "execution_count": 42,
   "metadata": {},
   "outputs": [],
   "source": [
    "#def prod_per_county(tipo,pais,anio): #numero de contenidos publicados por el pais especificando cuantas peliculas, series,shows etc...deberia devolver el tipo de contenido (pelicula,serie) por pais y año en un diccionario con las variables llamadas 'pais' (nombre del pais), 'anio' (año), 'pelicula' (tipo de contenido)\n",
    "\n",
    "#@app.get('/prod_per_county/{tipo}/{pais}/{anio}')\n",
    "def prod_per_county(tipo: str, pais: str, anio: int):\n",
    "    \n",
    "    #return {'pais': pais, 'anio': anio, 'peliculas': respuesta}\n",
    " #  df_temp=df.groupby(['country','release_year','type'])['type'].count()\n",
    " #  dic =df_temp.to_dict()\n",
    " #  numero=dic[pais,anio,tipo]\n",
    " #  return (int(numero))\n",
    "   #return(dic[pais,anio,tipo].values)\n",
    "\n",
    "#def prod_per_county(tipo, pais, anio):\n",
    "    # Filter the dataframe by country, year, and type, and count the number of rows\n",
    "    count = df[(df['country'] == pais) & (df['release_year'] == anio) & (df['type'] == tipo)].shape[0]\n",
    "    return (\"there is no movies realeased in\",anio) if count == 0 else int(count)"
   ]
  },
  {
   "cell_type": "code",
   "execution_count": 43,
   "metadata": {},
   "outputs": [
    {
     "data": {
      "text/plain": [
       "18"
      ]
     },
     "execution_count": 43,
     "metadata": {},
     "output_type": "execute_result"
    }
   ],
   "source": [
    "prod_per_county(\"movie\",\"canada\",2020)"
   ]
  },
  {
   "cell_type": "code",
   "execution_count": 46,
   "metadata": {},
   "outputs": [],
   "source": [
    "def get_contents(rating): #int con cantidad de contenidos con la clasificacion indicada\n",
    "    df_temp= df[df['rating_x'] == rating]\n",
    "    total= df_temp['title'].count() \n",
    "    return(int(total))"
   ]
  },
  {
   "cell_type": "code",
   "execution_count": 48,
   "metadata": {},
   "outputs": [
    {
     "data": {
      "text/plain": [
       "1243"
      ]
     },
     "execution_count": 48,
     "metadata": {},
     "output_type": "execute_result"
    }
   ],
   "source": [
    "get_contents(\"18+\")"
   ]
  }
 ],
 "metadata": {
  "kernelspec": {
   "display_name": "Python 3",
   "language": "python",
   "name": "python3"
  },
  "language_info": {
   "codemirror_mode": {
    "name": "ipython",
    "version": 3
   },
   "file_extension": ".py",
   "mimetype": "text/x-python",
   "name": "python",
   "nbconvert_exporter": "python",
   "pygments_lexer": "ipython3",
   "version": "3.10.8"
  },
  "orig_nbformat": 4
 },
 "nbformat": 4,
 "nbformat_minor": 2
}
